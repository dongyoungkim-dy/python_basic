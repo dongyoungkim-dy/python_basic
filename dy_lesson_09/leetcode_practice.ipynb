{
 "cells": [
  {
   "cell_type": "code",
   "execution_count": 34,
   "metadata": {},
   "outputs": [
    {
     "name": "stdout",
     "output_type": "stream",
     "text": [
      "[')', ')', ')', '[', ']', '[', ']']\n",
      "3\n",
      "false\n",
      "---\n",
      ") )\n",
      "false\n",
      ") [\n",
      "false\n",
      "] [\n",
      "false\n"
     ]
    }
   ],
   "source": [
    "input = \")))[][]\"\n",
    "listed_input = list(input)\n",
    "print(listed_input)\n",
    "print(int(len(input)/2))\n",
    "if len(listed_input)%2 != 0:\n",
    "    print(\"false\")\n",
    "print(\"---\")\n",
    "12\n",
    "34\n",
    "56\n",
    "\n",
    "for i in range(int(len(input)/2)):\n",
    "    print(input[i*2], input[i*2+1])\n",
    "    if input[i*2] == \")\" or \"]\" or \"}\":\n",
    "        print(\"false\")\n",
    "    elif input[i*2] == \"(\" and input[i*2+1] == \")\":\n",
    "        print(\"true\")\n",
    "    elif input[i*2] == \"(\" and input[i*2+1] == \"]\":\n",
    "        print(\"false\")\n",
    "    elif input[i*2] == \"(\" and input[i*2+1] == \"}\":\n",
    "        print(\"false\")    \n",
    "    elif input[i*2] == \"[\" and input[i*2+1] == \"]\":\n",
    "        print(\"true\") \n",
    "    elif input[i*2] == \"[\" and input[i*2+1] == \")\":\n",
    "        print(\"false\")  \n",
    "    elif input[i*2] == \"[\" and input[i*2+1] == \"}\":\n",
    "        print(\"false\")  \n",
    "    elif input[i*2] == \"{\" and input[i*2+1] == \"}\":\n",
    "        print(\"true\")   \n",
    "    elif input[i*2] == \"{\" and input[i*2+1] == \")\":\n",
    "        print(\"false\") \n",
    "    elif input[i*2] == \"{\" and input[i*2+1] == \"]\":\n",
    "        print(\"false\") "
   ]
  },
  {
   "cell_type": "code",
   "execution_count": 12,
   "metadata": {},
   "outputs": [
    {
     "name": "stdout",
     "output_type": "stream",
     "text": [
      "0\n"
     ]
    }
   ],
   "source": [
    "print(4%2)"
   ]
  },
  {
   "cell_type": "markdown",
   "metadata": {},
   "source": [
    "# Possible counter examples\n",
    "1. ()) : uneven input (not paired)\n",
    "2. [) : Unmaching\n",
    "3. )( : Wrong order\n",
    "4. {[]}: "
   ]
  },
  {
   "cell_type": "code",
   "execution_count": 44,
   "metadata": {},
   "outputs": [
    {
     "data": {
      "text/plain": [
       "str"
      ]
     },
     "execution_count": 44,
     "metadata": {},
     "output_type": "execute_result"
    }
   ],
   "source": [
    "a = ['(', \")\"]\n",
    "type(a[0])"
   ]
  },
  {
   "cell_type": "code",
   "execution_count": 66,
   "metadata": {},
   "outputs": [
    {
     "name": "stdout",
     "output_type": "stream",
     "text": [
      "['[', ']', '{', ')']\n",
      "0\n",
      "[ ]\n",
      "{ )\n",
      "[True, False]\n",
      "There is false\n"
     ]
    }
   ],
   "source": [
    "def isValid(input_string):\n",
    "    input = list(input_string)\n",
    "    print(input)\n",
    "    print(len(input)%2)\n",
    "    save_bool = []\n",
    "    if len(input)%2 != 0:\n",
    "        save_bool.append(False)\n",
    "    else:\n",
    "        \n",
    "        for i in range(int(len(input)/2)):\n",
    "            print(input[i*2], input[i*2+1])\n",
    "            if input[i*2] == \")\" or input[i*2] == \"]\" or input[i*2] == \"}\":\n",
    "                print(\"order problem\")\n",
    "                save_bool.append(False)\n",
    "            elif input[i*2] == \"(\" and input[i*2+1] == \")\":\n",
    "                save_bool.append(True)\n",
    "            elif input[i*2] == \"(\" and input[i*2+1] == \"]\":\n",
    "                save_bool.append(False)\n",
    "            elif input[i*2] == \"(\" and input[i*2+1] == \"}\":\n",
    "                save_bool.append(False)\n",
    "            elif input[i*2] == \"[\" and input[i*2+1] == \"]\":\n",
    "                save_bool.append(True)\n",
    "            elif input[i*2] == \"[\" and input[i*2+1] == \")\":\n",
    "                save_bool.append(False)\n",
    "            elif input[i*2] == \"[\" and input[i*2+1] == \"}\":\n",
    "                save_bool.append(False)\n",
    "            elif input[i*2] == \"{\" and input[i*2+1] == \"}\":\n",
    "                save_bool.append(True)\n",
    "            elif input[i*2] == \"{\" and input[i*2+1] == \")\":\n",
    "                save_bool.append(False)\n",
    "            elif input[i*2] == \"{\" and input[i*2+1] == \"]\":\n",
    "                save_bool.append(False)\n",
    "        print(save_bool)\n",
    "        if False in save_bool:\n",
    "            print(\"There is false\")\n",
    "        else: print(\"All true\")\n",
    "\n",
    "s = \"[]{)\"\n",
    "isValid(s)"
   ]
  },
  {
   "cell_type": "code",
   "execution_count": null,
   "metadata": {},
   "outputs": [],
   "source": []
  }
 ],
 "metadata": {
  "kernelspec": {
   "display_name": "Python 3",
   "language": "python",
   "name": "python3"
  },
  "language_info": {
   "codemirror_mode": {
    "name": "ipython",
    "version": 3
   },
   "file_extension": ".py",
   "mimetype": "text/x-python",
   "name": "python",
   "nbconvert_exporter": "python",
   "pygments_lexer": "ipython3",
   "version": "3.12.1"
  }
 },
 "nbformat": 4,
 "nbformat_minor": 2
}

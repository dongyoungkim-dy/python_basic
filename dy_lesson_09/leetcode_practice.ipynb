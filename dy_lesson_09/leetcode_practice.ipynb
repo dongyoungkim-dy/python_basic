{
 "cells": [
  {
   "cell_type": "code",
   "execution_count": 34,
   "metadata": {},
   "outputs": [
    {
     "name": "stdout",
     "output_type": "stream",
     "text": [
      "[')', ')', ')', '[', ']', '[', ']']\n",
      "3\n",
      "false\n",
      "---\n",
      ") )\n",
      "false\n",
      ") [\n",
      "false\n",
      "] [\n",
      "false\n"
     ]
    }
   ],
   "source": [
    "input = \")))[][]\"\n",
    "listed_input = list(input)\n",
    "print(listed_input)\n",
    "print(int(len(input)/2))\n",
    "if len(listed_input)%2 != 0:\n",
    "    print(\"false\")\n",
    "print(\"---\")\n",
    "12\n",
    "34\n",
    "56\n",
    "\n",
    "for i in range(int(len(input)/2)):\n",
    "    print(input[i*2], input[i*2+1])\n",
    "    if input[i*2] == \")\" or \"]\" or \"}\":\n",
    "        print(\"false\")\n",
    "    elif input[i*2] == \"(\" and input[i*2+1] == \")\":\n",
    "        print(\"true\")\n",
    "    elif input[i*2] == \"(\" and input[i*2+1] == \"]\":\n",
    "        print(\"false\")\n",
    "    elif input[i*2] == \"(\" and input[i*2+1] == \"}\":\n",
    "        print(\"false\")    \n",
    "    elif input[i*2] == \"[\" and input[i*2+1] == \"]\":\n",
    "        print(\"true\") \n",
    "    elif input[i*2] == \"[\" and input[i*2+1] == \")\":\n",
    "        print(\"false\")  \n",
    "    elif input[i*2] == \"[\" and input[i*2+1] == \"}\":\n",
    "        print(\"false\")  \n",
    "    elif input[i*2] == \"{\" and input[i*2+1] == \"}\":\n",
    "        print(\"true\")   \n",
    "    elif input[i*2] == \"{\" and input[i*2+1] == \")\":\n",
    "        print(\"false\") \n",
    "    elif input[i*2] == \"{\" and input[i*2+1] == \"]\":\n",
    "        print(\"false\") "
   ]
  },
  {
   "cell_type": "code",
   "execution_count": 12,
   "metadata": {},
   "outputs": [
    {
     "name": "stdout",
     "output_type": "stream",
     "text": [
      "0\n"
     ]
    }
   ],
   "source": [
    "print(4%2)"
   ]
  },
  {
   "cell_type": "markdown",
   "metadata": {},
   "source": [
    "# Possible counter examples\n",
    "1. ()) : uneven input (not paired)\n",
    "2. [) : Unmaching\n",
    "3. )( : Wrong order\n",
    "4. {[]}: "
   ]
  },
  {
   "cell_type": "code",
   "execution_count": 44,
   "metadata": {},
   "outputs": [
    {
     "data": {
      "text/plain": [
       "str"
      ]
     },
     "execution_count": 44,
     "metadata": {},
     "output_type": "execute_result"
    }
   ],
   "source": [
    "a = ['(', \")\"]\n",
    "type(a[0])"
   ]
  },
  {
   "cell_type": "code",
   "execution_count": 66,
   "metadata": {},
   "outputs": [
    {
     "name": "stdout",
     "output_type": "stream",
     "text": [
      "['[', ']', '{', ')']\n",
      "0\n",
      "[ ]\n",
      "{ )\n",
      "[True, False]\n",
      "There is false\n"
     ]
    }
   ],
   "source": [
    "def isValid(input_string):\n",
    "    input = list(input_string)\n",
    "    print(input)\n",
    "    print(len(input)%2)\n",
    "    save_bool = []\n",
    "    if len(input)%2 != 0:\n",
    "        save_bool.append(False)\n",
    "    else:\n",
    "        \n",
    "        for i in range(int(len(input)/2)):\n",
    "            print(input[i*2], input[i*2+1])\n",
    "            if input[i*2] == \")\" or input[i*2] == \"]\" or input[i*2] == \"}\":\n",
    "                print(\"order problem\")\n",
    "                save_bool.append(False)\n",
    "            elif input[i*2] == \"(\" and input[i*2+1] == \")\":\n",
    "                save_bool.append(True)\n",
    "            elif input[i*2] == \"(\" and input[i*2+1] == \"]\":\n",
    "                save_bool.append(False)\n",
    "            elif input[i*2] == \"(\" and input[i*2+1] == \"}\":\n",
    "                save_bool.append(False)\n",
    "            elif input[i*2] == \"[\" and input[i*2+1] == \"]\":\n",
    "                save_bool.append(True)\n",
    "            elif input[i*2] == \"[\" and input[i*2+1] == \")\":\n",
    "                save_bool.append(False)\n",
    "            elif input[i*2] == \"[\" and input[i*2+1] == \"}\":\n",
    "                save_bool.append(False)\n",
    "            elif input[i*2] == \"{\" and input[i*2+1] == \"}\":\n",
    "                save_bool.append(True)\n",
    "            elif input[i*2] == \"{\" and input[i*2+1] == \")\":\n",
    "                save_bool.append(False)\n",
    "            elif input[i*2] == \"{\" and input[i*2+1] == \"]\":\n",
    "                save_bool.append(False)\n",
    "        print(save_bool)\n",
    "        if False in save_bool:\n",
    "            print(\"There is false\")\n",
    "        else: print(\"All true\")\n",
    "\n",
    "s = \"[]{)\"\n",
    "isValid(s)"
   ]
  },
  {
   "cell_type": "markdown",
   "metadata": {},
   "source": [
    "# Using Stack\n",
    "\n",
    "## Read through input \n",
    "1. If you read opening brackets, save it to a list  \n",
    "  - If you do not read opening bracket in the beginning, returns False \n",
    "2. If you read closing bracket, check the lastest item in the list\n",
    "3. If they are matching, you remove them\n",
    "4. Do this until you have nothing in your list"
   ]
  },
  {
   "cell_type": "code",
   "execution_count": 10,
   "metadata": {},
   "outputs": [
    {
     "name": "stdout",
     "output_type": "stream",
     "text": [
      "['(', ')', '[', ']', '{', '}']\n",
      "()\n",
      "Yay\n"
     ]
    }
   ],
   "source": [
    "my_input = \"()[]{}\"\n",
    "listed_input = list(my_input)\n",
    "print(listed_input)\n",
    "pairs = [\"()\", \"[]\", \"{}\"]\n",
    "a = \"(\"+\")\"\n",
    "print(a)\n",
    "# alist = [1, 2, 3]\n",
    "# if 1 in alist:\n",
    "#     print(\"Yay\")\n",
    "if a in pairs:\n",
    "    print(\"Yay\")"
   ]
  },
  {
   "cell_type": "code",
   "execution_count": null,
   "metadata": {},
   "outputs": [],
   "source": []
  },
  {
   "cell_type": "code",
   "execution_count": 19,
   "metadata": {},
   "outputs": [
    {
     "name": "stdout",
     "output_type": "stream",
     "text": [
      "2\n",
      "(\n",
      ")\n",
      "Yay\n"
     ]
    }
   ],
   "source": [
    "my_input = \"()\"\n",
    "listed_input = list(my_input)\n",
    "print(len(my_input))\n",
    "# if my_input[0] == \")\" or my_input[len(my_input)] == \"(\":\n",
    "#     print(\"oh no\")\n",
    "\n",
    "empty_list = []\n",
    "for i in range(len(listed_input)):\n",
    "    if listed_input[0] in closing:\n",
    "        False\n",
    "    else:\n",
    "        print(listed_input[i])\n",
    "        if listed_input[i] in opening:\n",
    "            empty_list.append(listed_input[i])\n",
    "        elif listed_input[i] in closing:\n",
    "            if empty_list.pop()+listed_input[i] in pairs:\n",
    "                True\n",
    "                print(\"Yay\")\n",
    "            else: False\n",
    "\n",
    "\n"
   ]
  },
  {
   "cell_type": "code",
   "execution_count": 25,
   "metadata": {},
   "outputs": [
    {
     "name": "stdout",
     "output_type": "stream",
     "text": [
      "4\n",
      "4\n"
     ]
    }
   ],
   "source": [
    "a = [1 ,2, 3, 4]\n",
    "print(a[len(a)-1])\n",
    "print(a[-1])"
   ]
  },
  {
   "cell_type": "markdown",
   "metadata": {},
   "source": [
    "## JV's Solution"
   ]
  },
  {
   "cell_type": "code",
   "execution_count": 1,
   "metadata": {},
   "outputs": [],
   "source": [
    "# https://leetcode.com/problems/valid-parentheses/\n",
    "class Solution:\n",
    "    def isValid(self, s: str) -> bool:\n",
    "        stack = []\n",
    "        matching_close = {\n",
    "            \"(\" : \")\",\n",
    "            \"{\" : \"}\",\n",
    "            \"[\" : \"]\"\n",
    "        }\n",
    "\n",
    "        for ch in s:\n",
    "            # Found an opening bracket\n",
    "            if ch in matching_close:\n",
    "                stack.append(ch)\n",
    "\n",
    "            # Found a closing bracket with no opening bracket\n",
    "            elif len(stack) == 0:\n",
    "                return False\n",
    "\n",
    "            # Found a closing bracket with a mismatched opening bracket\n",
    "            elif ch != matching_close[stack[-1]]:\n",
    "                return False\n",
    "\n",
    "            # Found a closing bracket with matching opening bracket\n",
    "            elif ch == matching_close[stack[-1]]:\n",
    "                stack.pop()\n",
    "\n",
    "        # Return whether or not the stack is empty\n",
    "        # 1. Empty stack means valid parentheses\n",
    "        # 2. Non-empty stack means invalid parentheses\n",
    "        return len(stack) == 0"
   ]
  },
  {
   "cell_type": "code",
   "execution_count": null,
   "metadata": {},
   "outputs": [],
   "source": [
    "# https://leetcode.com/problems/generate-parentheses/\n",
    "class Solution:\n",
    "    def generateParenthesis(self, n: int) -> List[str]:\n",
    "        def generate_parenthesis(open, close, cur_str):\n",
    "            print(cur_str)\n",
    "            if open == 0 and close == 0:\n",
    "                print(\"Done!\")\n",
    "                return [cur_str]\n",
    "            \n",
    "            set_of_parentheses = []\n",
    "            if open > 0:\n",
    "                set_of_parentheses += generate_parenthesis(open - 1, close + 1, cur_str + \"(\")\n",
    "\n",
    "            if close > 0:\n",
    "                set_of_parentheses += generate_parenthesis(open, close - 1, cur_str + \")\")\n",
    "\n",
    "            return set_of_parentheses\n",
    "        \n",
    "        return generate_parenthesis(n, 0, \"\")"
   ]
  }
 ],
 "metadata": {
  "kernelspec": {
   "display_name": "Python 3",
   "language": "python",
   "name": "python3"
  },
  "language_info": {
   "codemirror_mode": {
    "name": "ipython",
    "version": 3
   },
   "file_extension": ".py",
   "mimetype": "text/x-python",
   "name": "python",
   "nbconvert_exporter": "python",
   "pygments_lexer": "ipython3",
   "version": "3.10.12"
  }
 },
 "nbformat": 4,
 "nbformat_minor": 2
}

{
 "cells": [
  {
   "cell_type": "markdown",
   "metadata": {},
   "source": [
    "# Lesson 2"
   ]
  },
  {
   "cell_type": "markdown",
   "metadata": {},
   "source": [
    "## Exercises\n",
    "\n",
    "Sample solutions will be shown at the end of the notebook."
   ]
  },
  {
   "cell_type": "markdown",
   "metadata": {},
   "source": [
    "### Exercise 1"
   ]
  },
  {
   "cell_type": "markdown",
   "metadata": {},
   "source": [
    "Get the sum of the contents of the list in the string\n",
    "\n",
    "input: `exercise1 = \"[1, 2, 3, 4, 5, 6, 7, 8, 9, 10]\"`\n",
    "\n",
    "output: `55`"
   ]
  },
  {
   "cell_type": "markdown",
   "metadata": {},
   "source": [
    "### Exercise 2"
   ]
  },
  {
   "cell_type": "markdown",
   "metadata": {},
   "source": [
    "Get the list of letters sorted by the number of occurrences from most occurrences to least occurrences. If the counts are tied, sort by decreasing alphabetic order.\n",
    "\n",
    "input: `exercise2 = \"aabaccdaeeacdaeadddddda\"`\n",
    "\n",
    "output: `[\"d\", \"a\", \"e\", \"c\", \"b\"]`\n",
    "\n",
    "explanation: \n",
    "If you count each character in `exercise2`, you get:\n",
    "- `a = 8`\n",
    "- `b = 1`\n",
    "- `c = 3`\n",
    "- `d = 8`\n",
    "- `e = 3`\n",
    "\n",
    "We sort the letters by the counts and break ties by decreasing alphabetic order.\n",
    "\n",
    "- `a` and `d` are tied in count with 8 each, but `a` comes before `d` alphabetically so `d` should go before `a`\n",
    "- `c` and `e` are tied in count with 3 each, but `c` comes before `e` alphabetically so `e` should go before `c`\n",
    "- `b` has a count of 1 and has no ties\n"
   ]
  },
  {
   "cell_type": "markdown",
   "metadata": {},
   "source": [
    "## Splitting Examples"
   ]
  },
  {
   "cell_type": "markdown",
   "metadata": {},
   "source": [
    "## Example 1 - Default `.split()`\n",
    "\n",
    "The `.split()` function is a string method that splits the string by specified characters and returns a list of the resulting split. The default behavior of the function is to split by whitespace as show in the example below"
   ]
  },
  {
   "cell_type": "code",
   "execution_count": 9,
   "metadata": {},
   "outputs": [
    {
     "name": "stdout",
     "output_type": "stream",
     "text": [
      "['a', 'b', 'c', 'd', 'e', 'f', 'g', 'h', 'i', 'j', 'k']\n"
     ]
    }
   ],
   "source": [
    "example_str1 = \"a b c d    e f    g    h i j k\"\n",
    "example_list1 = example_str1.split()\n",
    "print(example_list1)"
   ]
  },
  {
   "cell_type": "markdown",
   "metadata": {},
   "source": [
    "Since `.split()` is a string method, you can actually call it directly from the string itself"
   ]
  },
  {
   "cell_type": "code",
   "execution_count": 10,
   "metadata": {},
   "outputs": [
    {
     "name": "stdout",
     "output_type": "stream",
     "text": [
      "['a', 'b', 'c', 'd', 'e', 'f', 'g', 'h', 'i', 'j', 'k']\n"
     ]
    }
   ],
   "source": [
    "print(\"a b c d    e f    g    h i j k\".split())"
   ]
  },
  {
   "cell_type": "markdown",
   "metadata": {},
   "source": [
    "### Example 2 - Splitting by a character"
   ]
  },
  {
   "cell_type": "code",
   "execution_count": null,
   "metadata": {},
   "outputs": [
    {
     "name": "stdout",
     "output_type": "stream",
     "text": [
      "['a', 'b', 'c', 'd', '', '', '', 'e', 'f', '', '', '', 'g', '', '', '', 'h', 'i', 'j', 'k']\n"
     ]
    }
   ],
   "source": [
    "example_list1 = example_str1.split(\" \")\n",
    "print(example_list1)"
   ]
  },
  {
   "cell_type": "markdown",
   "metadata": {},
   "source": [
    "You can specify the string you want to split by as an argument to the `.split()` function."
   ]
  },
  {
   "cell_type": "code",
   "execution_count": 12,
   "metadata": {},
   "outputs": [
    {
     "name": "stdout",
     "output_type": "stream",
     "text": [
      "['a', ' b', 'c', 'd', 'e', 'f', 'g', 'h', 'i', 'j', 'k']\n"
     ]
    }
   ],
   "source": [
    "example_str2 = \"a,  b, c, d, e, f, g, h, i, j, k\"\n",
    "example_list2 = example_str2.split(\", \")\n",
    "print(example_list2)"
   ]
  },
  {
   "cell_type": "markdown",
   "metadata": {},
   "source": [
    "Note that the resulting output list when you specify only a space `\" \"` is different from the result of the default behavior"
   ]
  },
  {
   "cell_type": "code",
   "execution_count": 13,
   "metadata": {},
   "outputs": [
    {
     "name": "stdout",
     "output_type": "stream",
     "text": [
      "['a', 'b', 'c', 'd', '', '', '', 'e', 'f', '', '', '', 'g', '', '', '', 'h', 'i', 'j', 'k']\n"
     ]
    }
   ],
   "source": [
    "example_str1 = \"a b c d    e f    g    h i j k\"\n",
    "example_list1 = example_str1.split(\" \")\n",
    "print(example_list1)"
   ]
  },
  {
   "cell_type": "markdown",
   "metadata": {},
   "source": [
    "## Stripping Examples"
   ]
  },
  {
   "cell_type": "markdown",
   "metadata": {},
   "source": [
    "### Example 1 - Default `.strip()`"
   ]
  },
  {
   "cell_type": "markdown",
   "metadata": {},
   "source": [
    "The `.strip()` function is another string method that removes characters from the start and end of strings. Similar to `.split()`, it removes whitespace by default."
   ]
  },
  {
   "cell_type": "code",
   "execution_count": 14,
   "metadata": {},
   "outputs": [
    {
     "name": "stdout",
     "output_type": "stream",
     "text": [
      "    I am the very best    .\n",
      "I am the very best.\n"
     ]
    }
   ],
   "source": [
    "strip_example1 = \"    I am the very best    \"\n",
    "stripped_example1 = strip_example1.strip()\n",
    "\n",
    "print(strip_example1 + \".\")\n",
    "print(stripped_example1 + \".\")"
   ]
  },
  {
   "cell_type": "markdown",
   "metadata": {},
   "source": [
    "### Example 2 - Stripping by a character"
   ]
  },
  {
   "cell_type": "markdown",
   "metadata": {},
   "source": [
    "Similar to `.split()`, you may also specify which characters you want to strip."
   ]
  },
  {
   "cell_type": "code",
   "execution_count": 16,
   "metadata": {},
   "outputs": [
    {
     "name": "stdout",
     "output_type": "stream",
     "text": [
      "this is a quote\n"
     ]
    }
   ],
   "source": [
    "strip_example2 = \"'this is a quote'\"\n",
    "stripped_example2 = strip_example2.strip(\"'\")\n",
    "print(stripped_example2)"
   ]
  },
  {
   "cell_type": "markdown",
   "metadata": {},
   "source": [
    "### Example 3 - Stripping by multiple characters"
   ]
  },
  {
   "cell_type": "markdown",
   "metadata": {},
   "source": [
    "When you specify a string of more than one character in `.strip()`, the function tries to remove any character that is found the string."
   ]
  },
  {
   "cell_type": "code",
   "execution_count": 18,
   "metadata": {},
   "outputs": [
    {
     "name": "stdout",
     "output_type": "stream",
     "text": [
      "I am in a parenthesis\n"
     ]
    }
   ],
   "source": [
    "strip_example3 = \"(I am in a parenthesis)\"\n",
    "stripped_example3 = strip_example3.strip(\"()\")\n",
    "print(stripped_example3)"
   ]
  },
  {
   "cell_type": "markdown",
   "metadata": {},
   "source": [
    "### Example 4 - Stripping by multiple characters cont."
   ]
  },
  {
   "cell_type": "code",
   "execution_count": 20,
   "metadata": {},
   "outputs": [
    {
     "name": "stdout",
     "output_type": "stream",
     "text": [
      " hello \n"
     ]
    }
   ],
   "source": [
    "strip_example4 = \"() hello ()\"\n",
    "stripped_example4 = strip_example4.strip(\"()\")\n",
    "print(stripped_example4)"
   ]
  },
  {
   "cell_type": "markdown",
   "metadata": {},
   "source": [
    "### Example 5 - Stripping only on the left side"
   ]
  },
  {
   "cell_type": "markdown",
   "metadata": {},
   "source": [
    "If you only want to strip on the left side of the string, you may use the `.lstrip()` function."
   ]
  },
  {
   "cell_type": "code",
   "execution_count": 21,
   "metadata": {},
   "outputs": [
    {
     "name": "stdout",
     "output_type": "stream",
     "text": [
      "I am in a parenthesis)\n"
     ]
    }
   ],
   "source": [
    "strip_example5 = \"(I am in a parenthesis)\"\n",
    "stripped_example5 = strip_example5.lstrip(\"()\")\n",
    "print(stripped_example5)"
   ]
  },
  {
   "cell_type": "markdown",
   "metadata": {},
   "source": [
    "### Example 6 - Stripping only on the right side"
   ]
  },
  {
   "cell_type": "markdown",
   "metadata": {},
   "source": [
    "Similarly, you can also choose to only strip on the right of the string using the `.rstrip()` function."
   ]
  },
  {
   "cell_type": "code",
   "execution_count": 24,
   "metadata": {},
   "outputs": [
    {
     "name": "stdout",
     "output_type": "stream",
     "text": [
      "(I am in a parenthesis\n"
     ]
    }
   ],
   "source": [
    "strip_example6 = \"(I am in a parenthesis)\"\n",
    "stripped_example6 = strip_example6.rstrip(\"()\")\n",
    "print(stripped_example6)"
   ]
  },
  {
   "cell_type": "markdown",
   "metadata": {},
   "source": [
    "## Working with lists and other similar objects (Passing by reference)"
   ]
  },
  {
   "cell_type": "markdown",
   "metadata": {},
   "source": [
    "### Concept"
   ]
  },
  {
   "cell_type": "markdown",
   "metadata": {},
   "source": [
    "Normally, when we pass a value via a variable to a function, any changes that happen to the value inside the function do not modify the variable outside of the function. "
   ]
  },
  {
   "cell_type": "code",
   "execution_count": 27,
   "metadata": {},
   "outputs": [
    {
     "name": "stdout",
     "output_type": "stream",
     "text": [
      "Before the function\n",
      "10\n",
      "In the function\n",
      "11\n",
      "Outside the function\n",
      "10\n"
     ]
    }
   ],
   "source": [
    "def int_add_one(my_x):\n",
    "    my_x += 1\n",
    "    print(\"In the function\")\n",
    "    print(my_x)\n",
    "\n",
    "x = 10\n",
    "\n",
    "print(\"Before the function\")\n",
    "print(x)\n",
    "\n",
    "int_add_one(x)\n",
    "\n",
    "print(\"Outside the function\")\n",
    "print(x)\n"
   ]
  },
  {
   "cell_type": "markdown",
   "metadata": {},
   "source": [
    "However, things work a bit differnetly with lists. Let's take a look at the function below that takes a list as an argument and then adds one to each of its elements. Observe what happens to the list passed to it."
   ]
  },
  {
   "cell_type": "code",
   "execution_count": 29,
   "metadata": {},
   "outputs": [
    {
     "name": "stdout",
     "output_type": "stream",
     "text": [
      "Before the function\n",
      "[1, 2, 3, 4]\n",
      "In the function\n",
      "[2, 3, 4, 5]\n",
      "Outside the function\n",
      "[2, 3, 4, 5]\n"
     ]
    }
   ],
   "source": [
    "def list_add_one(my_list):\n",
    "    for i in range(len(my_list)):\n",
    "        my_list[i] += 1\n",
    "\n",
    "    print(\"In the function\")\n",
    "    print(my_list)\n",
    "    \n",
    "list_ref_example1 = [1, 2, 3, 4]\n",
    "\n",
    "print(\"Before the function\")\n",
    "print(list_ref_example1)\n",
    "\n",
    "list_add_one(list_ref_example1)\n",
    "\n",
    "print(\"Outside the function\")\n",
    "print(list_ref_example1)"
   ]
  },
  {
   "cell_type": "markdown",
   "metadata": {},
   "source": [
    "Notice how the modifications that happen inside the list also reflect outside of the function. This is because lists are __**passed by reference**__."
   ]
  },
  {
   "cell_type": "markdown",
   "metadata": {},
   "source": [
    "The same behavior also applied to dictionaries. See the example below."
   ]
  },
  {
   "cell_type": "code",
   "execution_count": 30,
   "metadata": {},
   "outputs": [
    {
     "name": "stdout",
     "output_type": "stream",
     "text": [
      "Before the function\n",
      "{'a': 1, 'b': 2}\n",
      "In the function\n",
      "{'a': 2, 'b': 2}\n",
      "Outside the function\n",
      "{'a': 2, 'b': 2}\n"
     ]
    }
   ],
   "source": [
    "def dict_add_one_a(my_dict):\n",
    "    my_dict[\"a\"] += 1\n",
    "    print(\"In the function\")\n",
    "    print(my_dict)\n",
    "\n",
    "dict_ref_example1 = {\"a\" : 1, \"b\" : 2}\n",
    "\n",
    "print(\"Before the function\")\n",
    "print(dict_ref_example1)\n",
    "\n",
    "dict_add_one_a(dict_ref_example1)\n",
    "\n",
    "print(\"Outside the function\")\n",
    "print(dict_ref_example1)\n"
   ]
  },
  {
   "cell_type": "markdown",
   "metadata": {},
   "source": [
    "### Avoiding this behavior"
   ]
  },
  {
   "cell_type": "markdown",
   "metadata": {},
   "source": [
    "If, for any reason, you would like to avoid this type of behavior, there are a few options. "
   ]
  },
  {
   "cell_type": "markdown",
   "metadata": {},
   "source": [
    "The first option would be to manually create a new copy of the list before passing it to the function."
   ]
  },
  {
   "cell_type": "code",
   "execution_count": 35,
   "metadata": {},
   "outputs": [
    {
     "name": "stdout",
     "output_type": "stream",
     "text": [
      "Before the function\n",
      "[1, 2, 3, 4]\n",
      "In the function\n",
      "[2, 3, 4, 5]\n",
      "In the function\n",
      "[2, 3, 4, 5]\n",
      "In the function\n",
      "[2, 3, 4, 5]\n",
      "Outside the function\n",
      "[1, 2, 3, 4]\n"
     ]
    }
   ],
   "source": [
    "def list_add_one(my_list):\n",
    "    for i in range(len(my_list)):\n",
    "        my_list[i] += 1\n",
    "\n",
    "    print(\"In the function\")\n",
    "    print(my_list)\n",
    "    \n",
    "list_ref_example2 = [1, 2, 3, 4]\n",
    "\n",
    "print(\"Before the function\")\n",
    "print(list_ref_example2)\n",
    "\n",
    "list_add_one([x for x in list_ref_example2])\n",
    "\n",
    "# alternatively\n",
    "list_ref_example2_copy = [x for x in list_ref_example2]\n",
    "list_add_one(list_ref_example2_copy)\n",
    "\n",
    "# you could also do\n",
    "list_add_one(list(list_ref_example2))\n",
    "\n",
    "print(\"Outside the function\")\n",
    "print(list_ref_example2)"
   ]
  },
  {
   "cell_type": "markdown",
   "metadata": {},
   "source": [
    "You could also use the `copy` library in python to create a copy of the list (or dictionary or other similar objects)."
   ]
  },
  {
   "cell_type": "code",
   "execution_count": 37,
   "metadata": {},
   "outputs": [
    {
     "name": "stdout",
     "output_type": "stream",
     "text": [
      "Before the function\n",
      "[1, 2, 3, 4]\n",
      "In the function\n",
      "[2, 3, 4, 5]\n",
      "Outside the function\n",
      "[1, 2, 3, 4]\n"
     ]
    }
   ],
   "source": [
    "import copy\n",
    "\n",
    "def list_add_one(my_list):\n",
    "    for i in range(len(my_list)):\n",
    "        my_list[i] += 1\n",
    "\n",
    "    print(\"In the function\")\n",
    "    print(my_list)\n",
    "    \n",
    "list_ref_example3 = [1, 2, 3, 4]\n",
    "\n",
    "print(\"Before the function\")\n",
    "print(list_ref_example3)\n",
    "\n",
    "list_add_one(copy.copy(list_ref_example3))\n",
    "\n",
    "\n",
    "print(\"Outside the function\")\n",
    "print(list_ref_example3)"
   ]
  },
  {
   "cell_type": "markdown",
   "metadata": {},
   "source": [
    "## Sorting"
   ]
  },
  {
   "cell_type": "markdown",
   "metadata": {},
   "source": [
    "When it comes to sorting lists in python, there are two options: `.sort()` and `sorted()`.\n",
    "\n",
    "- `.sort()` is a list method the modifies the original list and returns nothing\n",
    "- `sorted()` is a function that takes in a list and returns the sorted list without modifying the original list"
   ]
  },
  {
   "cell_type": "markdown",
   "metadata": {},
   "source": [
    "### Using `.sort()`"
   ]
  },
  {
   "cell_type": "code",
   "execution_count": 40,
   "metadata": {},
   "outputs": [
    {
     "name": "stdout",
     "output_type": "stream",
     "text": [
      "[0, 3, 7, 10, 10, 18]\n"
     ]
    }
   ],
   "source": [
    "a = [10, 7, 18, 3, 0, 10]\n",
    "a.sort()\n",
    "print(a)"
   ]
  },
  {
   "cell_type": "markdown",
   "metadata": {},
   "source": [
    "### Using `sorted()`"
   ]
  },
  {
   "cell_type": "code",
   "execution_count": 42,
   "metadata": {},
   "outputs": [
    {
     "name": "stdout",
     "output_type": "stream",
     "text": [
      "Original b\n",
      "[10, 7, 18, 3, 0, 10]\n",
      "Sorted b\n",
      "[0, 3, 7, 10, 10, 18]\n"
     ]
    }
   ],
   "source": [
    "b = [10, 7, 18, 3, 0, 10]\n",
    "sorted_b = sorted(b)\n",
    "\n",
    "print(\"Original b\")\n",
    "print(b)\n",
    "\n",
    "print(\"Sorted b\")\n",
    "print(sorted_b)"
   ]
  },
  {
   "cell_type": "markdown",
   "metadata": {},
   "source": [
    "### Sorting in reverse"
   ]
  },
  {
   "cell_type": "markdown",
   "metadata": {},
   "source": [
    "Both `.sort()` and `sorted()` accept a boolean argument called `reverse` if you want to specify sorting in a descending order."
   ]
  },
  {
   "cell_type": "code",
   "execution_count": 43,
   "metadata": {},
   "outputs": [
    {
     "name": "stdout",
     "output_type": "stream",
     "text": [
      "[18, 10, 10, 7, 3, 0]\n"
     ]
    }
   ],
   "source": [
    "c = [10, 7, 18, 3, 0, 10]\n",
    "c.sort(reverse=True)\n",
    "print(c)"
   ]
  },
  {
   "cell_type": "code",
   "execution_count": 45,
   "metadata": {},
   "outputs": [
    {
     "name": "stdout",
     "output_type": "stream",
     "text": [
      "Original d\n",
      "[10, 7, 18, 3, 0, 10]\n",
      "Sorted d\n",
      "[18, 10, 10, 7, 3, 0]\n"
     ]
    }
   ],
   "source": [
    "d = [10, 7, 18, 3, 0, 10]\n",
    "sorted_d = sorted(d, reverse=True)\n",
    "\n",
    "print(\"Original d\")\n",
    "print(d)\n",
    "\n",
    "print(\"Sorted d\")\n",
    "print(sorted_d)"
   ]
  },
  {
   "cell_type": "markdown",
   "metadata": {},
   "source": [
    "### Sorting with tuples"
   ]
  },
  {
   "cell_type": "markdown",
   "metadata": {},
   "source": [
    "First of all, a tuple is just like a list with some group of elements that you can access. The main difference would be that you cannot modify the elements of a tuple. This makes it a slightly more efficient data type if you ever need to past of group of values around that do not need to be modified."
   ]
  },
  {
   "cell_type": "code",
   "execution_count": 46,
   "metadata": {},
   "outputs": [
    {
     "name": "stdout",
     "output_type": "stream",
     "text": [
      "(1, 2, 3, 4, 5, 6)\n",
      "3\n"
     ]
    }
   ],
   "source": [
    "tuple_example = (1, 2, 3, 4, 5, 6)\n",
    "print(tuple_example)\n",
    "print(tuple_example[2])"
   ]
  },
  {
   "cell_type": "code",
   "execution_count": 49,
   "metadata": {},
   "outputs": [
    {
     "ename": "TypeError",
     "evalue": "'tuple' object does not support item assignment",
     "output_type": "error",
     "traceback": [
      "\u001b[0;31m---------------------------------------------------------------------------\u001b[0m",
      "\u001b[0;31mTypeError\u001b[0m                                 Traceback (most recent call last)",
      "Cell \u001b[0;32mIn[49], line 2\u001b[0m\n\u001b[1;32m      1\u001b[0m \u001b[38;5;66;03m# This will run into an error\u001b[39;00m\n\u001b[0;32m----> 2\u001b[0m \u001b[43mtuple_example\u001b[49m\u001b[43m[\u001b[49m\u001b[38;5;241;43m1\u001b[39;49m\u001b[43m]\u001b[49m \u001b[38;5;241m=\u001b[39m \u001b[38;5;241m10\u001b[39m\n",
      "\u001b[0;31mTypeError\u001b[0m: 'tuple' object does not support item assignment"
     ]
    }
   ],
   "source": [
    "# This will run into an error\n",
    "tuple_example[1] = 10"
   ]
  },
  {
   "cell_type": "markdown",
   "metadata": {},
   "source": [
    "If you have a list of tuples, sorting works by trying to compare each of the tuple elements. Take a look at the example below. You'll notice that if the first elements of each tuple match, then the sorting tries to compare the second element of each tuple."
   ]
  },
  {
   "cell_type": "code",
   "execution_count": 51,
   "metadata": {},
   "outputs": [
    {
     "name": "stdout",
     "output_type": "stream",
     "text": [
      "[(-1, -2), (1, 2), (1, 5), (1, 10), (3, 4)]\n"
     ]
    }
   ],
   "source": [
    "my_list = [(1, 2), (3, 4), (-1, -2), (1, 5), (1, 10)]\n",
    "sorted_list = sorted(my_list)\n",
    "print(sorted_list)"
   ]
  },
  {
   "cell_type": "markdown",
   "metadata": {},
   "source": [
    "## Exercise Solutions"
   ]
  },
  {
   "cell_type": "markdown",
   "metadata": {},
   "source": [
    "### Exercise 1"
   ]
  },
  {
   "cell_type": "markdown",
   "metadata": {},
   "source": [
    "Get the sum of the contents of the list in the string\n",
    "\n",
    "input: `exercise1 = \"[1, 2, 3, 4, 5, 6, 7, 8, 9, 10]\"`\n",
    "\n",
    "output: `55`"
   ]
  },
  {
   "cell_type": "code",
   "execution_count": 53,
   "metadata": {},
   "outputs": [
    {
     "name": "stdout",
     "output_type": "stream",
     "text": [
      "55\n"
     ]
    }
   ],
   "source": [
    "exercise1 = \"[1, 2, 3, 4, 5, 6, 7, 8, 9, 10]\"\n",
    "stripped_exercise1 = exercise1.strip(\"[]\")\n",
    "splited_e1 = stripped_exercise1.split(\",\")\n",
    "total_sum = 0\n",
    "for i in splited_e1:\n",
    "    total_sum += int(i)\n",
    "print(total_sum)"
   ]
  },
  {
   "cell_type": "code",
   "execution_count": 54,
   "metadata": {},
   "outputs": [
    {
     "name": "stdout",
     "output_type": "stream",
     "text": [
      "55\n"
     ]
    }
   ],
   "source": [
    "exercise1 = \"[1, 2, 3, 4, 5, 6, 7, 8, 9, 10]\"\n",
    "total_sum = sum([int(x) for x in exercise1.strip(\"[]\").split(\", \")])\n",
    "print(total_sum)"
   ]
  },
  {
   "cell_type": "markdown",
   "metadata": {},
   "source": [
    "## Exercise 2"
   ]
  },
  {
   "cell_type": "markdown",
   "metadata": {},
   "source": [
    "Get the list of letters sorted by the number of occurrences from most occurrences to least occurrences. If the counts are tied, sort by decreasing alphabetic order.\n",
    "\n",
    "input: `exercise2 = \"aabaccdaeeacdaeadddddda\"`\n",
    "\n",
    "output: `[\"d\", \"a\", \"e\", \"c\", \"b\"]`\n",
    "\n",
    "explanation: \n",
    "If you count each character in `exercise2`, you get:\n",
    "- `a = 8`\n",
    "- `b = 1`\n",
    "- `c = 3`\n",
    "- `d = 8`\n",
    "- `e = 3`\n",
    "\n",
    "We sort the letters by the counts and break ties by decreasing alphabetic order.\n",
    "\n",
    "- `a` and `d` are tied in count with 8 each, but `a` comes before `d` alphabetically so `d` should go before `a`\n",
    "- `c` and `e` are tied in count with 3 each, but `c` comes before `e` alphabetically so `e` should go before `c`\n",
    "- `b` has a count of 1 and has no ties\n"
   ]
  },
  {
   "cell_type": "code",
   "execution_count": 57,
   "metadata": {},
   "outputs": [
    {
     "name": "stdout",
     "output_type": "stream",
     "text": [
      "['d', 'a', 'e', 'c', 'b']\n"
     ]
    }
   ],
   "source": [
    "exercise2 = \"aabaccdaeeacdaeadddddda\"\n",
    "a = 0\n",
    "b = 0\n",
    "c = 0\n",
    "d = 0\n",
    "e = 0\n",
    "for letter in exercise2:\n",
    "    if letter == \"a\":\n",
    "        a += 1\n",
    "    elif letter == \"b\":\n",
    "        b += 1\n",
    "    elif letter == \"c\":\n",
    "        c += 1\n",
    "    elif letter == \"d\":\n",
    "        d += 1\n",
    "    elif letter == \"e\":\n",
    "        e += 1\n",
    "\n",
    "counted_list = [(a, \"a\"), (b, \"b\"), (c, \"c\"), (d, \"d\"), (e, \"e\")]\n",
    "sorted_list = sorted(counted_list, reverse=True)\n",
    "final_answer = [x[1] for x in sorted_list]\n",
    "print(final_answer)\n"
   ]
  },
  {
   "cell_type": "code",
   "execution_count": 58,
   "metadata": {},
   "outputs": [
    {
     "name": "stdout",
     "output_type": "stream",
     "text": [
      "['d', 'a', 'e', 'c', 'b']\n"
     ]
    }
   ],
   "source": [
    "exercise2 = \"aabaccdaeeacdaeadddddda\"\n",
    "letter_counts = {\"a\" : 0, \"b\" : 0, \"c\" : 0, \"d\" : 0, \"e\" : 0}\n",
    "for letter in exercise2:\n",
    "    letter_counts[letter] += 1\n",
    "\n",
    "counted_list = [(value, key) for key, value in letter_counts.items()]\n",
    "counted_list.sort(reverse=True)\n",
    "final_answer = [x[1] for x in counted_list]\n",
    "print(final_answer)"
   ]
  },
  {
   "cell_type": "code",
   "execution_count": 60,
   "metadata": {},
   "outputs": [
    {
     "name": "stdout",
     "output_type": "stream",
     "text": [
      "['d', 'a', 'e', 'c', 'b']\n"
     ]
    }
   ],
   "source": [
    "exercise2 = \"aabaccdaeeacdaeadddddda\"\n",
    "letter_counts = {}\n",
    "for letter in exercise2:\n",
    "    if letter in letter_counts:\n",
    "        letter_counts[letter] += 1\n",
    "    else:\n",
    "        letter_counts[letter] = 1\n",
    "\n",
    "counted_list = [(value, key) for key, value in letter_counts.items()]\n",
    "counted_list.sort(reverse=True)\n",
    "final_answer = [x[1] for x in counted_list]\n",
    "print(final_answer)"
   ]
  },
  {
   "cell_type": "code",
   "execution_count": 65,
   "metadata": {},
   "outputs": [
    {
     "name": "stdout",
     "output_type": "stream",
     "text": [
      "['d', 'a', 'e', 'c', 'b']\n"
     ]
    }
   ],
   "source": [
    "def get_tuple(x):\n",
    "    return (letter_counts[x], x)\n",
    "\n",
    "exercise2 = \"aabaccdaeeacdaeadddddda\"\n",
    "letter_counts = {}\n",
    "for letter in exercise2:\n",
    "    letter_counts[letter] = letter_counts.get(letter, 0) + 1\n",
    "\n",
    "counted_list = [(value, key) for key, value in letter_counts.items()]\n",
    "counted_list.sort(reverse=True)\n",
    "final_answer = [x[1] for x in counted_list]\n",
    "print(final_answer)"
   ]
  },
  {
   "cell_type": "code",
   "execution_count": 66,
   "metadata": {},
   "outputs": [
    {
     "name": "stdout",
     "output_type": "stream",
     "text": [
      "['d', 'a', 'e', 'c', 'b']\n"
     ]
    }
   ],
   "source": [
    "def get_tuple(x):\n",
    "    return (letter_counts[x], x)\n",
    "\n",
    "exercise2 = \"aabaccdaeeacdaeadddddda\"\n",
    "letter_counts = {}\n",
    "for letter in exercise2:\n",
    "    letter_counts[letter] = letter_counts.get(letter, 0) + 1\n",
    "\n",
    "final_answer = sorted(letter_counts, key=get_tuple, reverse=True)\n",
    "print(final_answer)"
   ]
  },
  {
   "cell_type": "code",
   "execution_count": 74,
   "metadata": {},
   "outputs": [
    {
     "name": "stdout",
     "output_type": "stream",
     "text": [
      "['d', 'a', 'e', 'c', 'b']\n"
     ]
    }
   ],
   "source": [
    "exercise2 = \"aabaccdaeeacdaeadddddda\"\n",
    "letter_counts = {}\n",
    "for letter in exercise2:\n",
    "    letter_counts[letter] = letter_counts.get(letter, 0) + 1\n",
    "\n",
    "final_answer = sorted(letter_counts, \n",
    "                      key=lambda x : (letter_counts[x], x), \n",
    "                      reverse=True)\n",
    "print(final_answer)"
   ]
  }
 ],
 "metadata": {
  "kernelspec": {
   "display_name": "Python 3",
   "language": "python",
   "name": "python3"
  },
  "language_info": {
   "codemirror_mode": {
    "name": "ipython",
    "version": 3
   },
   "file_extension": ".py",
   "mimetype": "text/x-python",
   "name": "python",
   "nbconvert_exporter": "python",
   "pygments_lexer": "ipython3",
   "version": "3.10.12"
  }
 },
 "nbformat": 4,
 "nbformat_minor": 2
}

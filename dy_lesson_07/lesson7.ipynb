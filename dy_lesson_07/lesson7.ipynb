{
 "cells": [
  {
   "cell_type": "markdown",
   "metadata": {},
   "source": [
    "# Basic File Manipulation"
   ]
  },
  {
   "cell_type": "markdown",
   "metadata": {},
   "source": [
    "The following will be showing how to do basic file manipulation in Python. This usually won't be necessary when using libraries, but it is still good to know once you have your own use cases for data. Libraries usually tend to create helper functions that make this process much easier for you."
   ]
  },
  {
   "cell_type": "markdown",
   "metadata": {},
   "source": [
    "## Reading Files"
   ]
  },
  {
   "cell_type": "code",
   "execution_count": 4,
   "metadata": {},
   "outputs": [
    {
     "name": "stdout",
     "output_type": "stream",
     "text": [
      "# 49ers players admit they did not know overtime rules in Super Bowl loss to Chiefs\n",
      "\n",
      "---\n",
      "\n",
      "San Francisco’s decision to take the ball first in overtime during their Super Bowl loss to the Kansas City Chiefs will be debated all offseason. That scrutiny will be even stronger after some 49ers players admitted they weren’t aware of new rules regarding overtime.\n",
      "\n",
      "For many years, overtime ended as soon as one team scored. Then the rule was altered so both teams could possess the ball — unless the first team on offense scored a touchdown. In that case, the game would end on that TD, and that’s what happened when New England beat Atlanta 34-28 in Super Bowl 51.\n",
      "\n",
      "Fine margins leave a lifetime of Super Bowl what ifs for San Francisco 49ers\n",
      "Read more\n",
      "But the most recent rule change mandated that in the postseason, both teams can possess the ball even if the first offensive team scores a touchdown. Now NFL playoff overtime even more closely resembles the college OT format, where teams alternate possessions. And in college, teams often like to have the ball second because they’ll have a better sense of what they need on their drive.\n",
      "\n",
      "On Sunday, the 49ers took the ball in overtime and drove for a field goal, then lost 25-22 when Patrick Mahomes guided Kansas City 75 yards the other way for the winning touchdown on Sunday night. If they’d known three points wouldn’t be good enough, they could have gone for a touchdown in that spot.\n",
      "\n",
      "This time, Kansas City had that advantage, which meant the Chiefs had no choice but to go for it on fourth-and-one from their own 34, down three. They converted and eventually reached the end zone on a three-yard touchdown pass from Mahomes to Mecole Hardman.\n",
      "\n",
      "“That’s something we talked about,” San Francisco coach Kyle Shanahan said. “None of us have a ton of experience of it.”\n",
      "\n",
      "However, some 49ers players said they were not aware of the rule. “I didn’t even know about the new playoff overtime rule, so it was a surprise to me,” San Francisco defensive lineman Arik Armstead said. “I didn’t even really know what was going on in terms of that.”\n",
      "\n",
      "Shanahan said he had talked with his analytics team before Sunday’s game about overtime scenarios. That discussion does not appear to have filtered through to at least some of his players.\n",
      "\n",
      "“You know what? I didn’t even realize the playoff rules were different in overtime,” fullback and Harvard graduate Kyle Juszczyk said. “I assume you just want the ball to score a touchdown and win. I guess that’s not the case. I don’t totally know the strategy there. We hadn’t talked about it, no.”\n",
      "\n",
      "In contrast, Kansas City players said they knew about the new regulations.\n",
      "\n",
      "“We talked for two weeks about new overtime rules,” defensive tackle Chris Jones said. “Give the ball to the opponent. If we score, we go for [a two-point conversion].”\n",
      "\n",
      "Safety Justin Reid said the Chiefs had conversations about the rule change dating back to training camp. “We’ve talked about it all year,” Reid said. “We talked about it in training camp about how the rules were different in regular season versus the playoffs. Every week of the playoffs we talked about the overtime rule.”\n",
      "\n",
      "Chiefs head coach Andy Reid admitted that even with planning and knowledge of the rules, it’s not clear what the right tactic is to follow.\n",
      "\n",
      "“There’s two ways: You kick it off or you receive it,” Reid said. “I’m not sure there’s a right answer, necessarily. Ours ended up being the right one. That’s what we felt was the right thing to do.”\n",
      "\n",
      "One defense of San Francisco’s decision to take the ball involves what happens if the game is still tied after both teams have had a possession. Then, the game becomes sudden death – so there’s a clear potential edge in having the ball third. If the game was still tied after the first two possessions, the 49ers would have had the ball and any score would have won the championship.\n",
      "\n",
      "“We went through all the analytics and talked to those guys,” Shanahan said. “We wanted the ball third. If both teams matched and scored, we wanted to be the ones with a chance to go win.”\n",
      "\n",
      "As for Armstead, he said he was first aware of the rules when he glanced at the stadium’s video screens.\n",
      "\n",
      "“They put it on the scoreboard, and everyone was like ‘Oh, even if you score, they get a chance still,’” Armstead said.\n",
      "\n",
      "***\n",
      "\n",
      "## Well, 2023 didn’t exactly go to plan, did it?\n",
      "\n",
      "Here in the UK, the prime minister, Rishi Sunak, had promised us a government of stability and competence – not forgetting professionalism, integrity and accountability – after the rollercoaster ride of Boris Johnson and Liz Truss. Remember Liz? These days she seems like a long forgotten comedy act. Instead, Sunak took us even further through the looking-glass into the Conservative psychodrama. \n",
      "\n",
      "Elsewhere, the picture has been no better. In the US, Donald Trump is now many people’s favourite to become president again. In Ukraine, the war has dragged on with no end in sight. The danger of the rest of the world getting battle fatigue and losing interest all too apparent. Then there is the war in the Middle East and not forgetting the climate crisis …\n",
      "\n",
      "But a new year brings new hope. There are elections in many countries, including the UK and the US. We have to believe in change. That something better is possible. The Guardian will continue to cover events from all over the world and our reporting now feels especially important. But running a news gathering organisation doesn’t come cheap. \n",
      "\n",
      "So this year, I am asking you – if you can afford it – to give money. Well, not to me personally – though you can if you like – but to the Guardian. The average monthly support in Canada is around CA$4, however much you give, all that matters is you’re choosing to support open, independent journalism.\n",
      "\n",
      "With your help, we can make our journalism free to everyone. You won’t ever find any of our news reports or comment pieces tucked away behind a paywall. We couldn’t do this without you. Unlike our politicians, when we say we are in this together we mean it.\n",
      "\n",
      "Happy new year!\n",
      "\n"
     ]
    }
   ],
   "source": [
    "example_file = open(\"data/file1.txt\")\n",
    "file_contents = example_file.read()\n",
    "print(file_contents)\n"
   ]
  },
  {
   "cell_type": "code",
   "execution_count": 6,
   "metadata": {},
   "outputs": [
    {
     "data": {
      "text/plain": [
       "''"
      ]
     },
     "execution_count": 6,
     "metadata": {},
     "output_type": "execute_result"
    }
   ],
   "source": [
    "example_file.read()"
   ]
  },
  {
   "cell_type": "code",
   "execution_count": 8,
   "metadata": {},
   "outputs": [],
   "source": [
    "example_file.close()"
   ]
  },
  {
   "cell_type": "code",
   "execution_count": 12,
   "metadata": {},
   "outputs": [
    {
     "name": "stdout",
     "output_type": "stream",
     "text": [
      "['# 49ers players admit they did not know overtime rules in Super Bowl loss to Chiefs\\n', '\\n', '---\\n', '\\n', 'San Francisco’s decision to take the ball first in overtime during their Super Bowl loss to the Kansas City Chiefs will be debated all offseason. That scrutiny will be even stronger after some 49ers players admitted they weren’t aware of new rules regarding overtime.\\n', '\\n', 'For many years, overtime ended as soon as one team scored. Then the rule was altered so both teams could possess the ball — unless the first team on offense scored a touchdown. In that case, the game would end on that TD, and that’s what happened when New England beat Atlanta 34-28 in Super Bowl 51.\\n', '\\n', 'Fine margins leave a lifetime of Super Bowl what ifs for San Francisco 49ers\\n', 'Read more\\n', 'But the most recent rule change mandated that in the postseason, both teams can possess the ball even if the first offensive team scores a touchdown. Now NFL playoff overtime even more closely resembles the college OT format, where teams alternate possessions. And in college, teams often like to have the ball second because they’ll have a better sense of what they need on their drive.\\n', '\\n', 'On Sunday, the 49ers took the ball in overtime and drove for a field goal, then lost 25-22 when Patrick Mahomes guided Kansas City 75 yards the other way for the winning touchdown on Sunday night. If they’d known three points wouldn’t be good enough, they could have gone for a touchdown in that spot.\\n', '\\n', 'This time, Kansas City had that advantage, which meant the Chiefs had no choice but to go for it on fourth-and-one from their own 34, down three. They converted and eventually reached the end zone on a three-yard touchdown pass from Mahomes to Mecole Hardman.\\n', '\\n', '“That’s something we talked about,” San Francisco coach Kyle Shanahan said. “None of us have a ton of experience of it.”\\n', '\\n', 'However, some 49ers players said they were not aware of the rule. “I didn’t even know about the new playoff overtime rule, so it was a surprise to me,” San Francisco defensive lineman Arik Armstead said. “I didn’t even really know what was going on in terms of that.”\\n', '\\n', 'Shanahan said he had talked with his analytics team before Sunday’s game about overtime scenarios. That discussion does not appear to have filtered through to at least some of his players.\\n', '\\n', '“You know what? I didn’t even realize the playoff rules were different in overtime,” fullback and Harvard graduate Kyle Juszczyk said. “I assume you just want the ball to score a touchdown and win. I guess that’s not the case. I don’t totally know the strategy there. We hadn’t talked about it, no.”\\n', '\\n', 'In contrast, Kansas City players said they knew about the new regulations.\\n', '\\n', '“We talked for two weeks about new overtime rules,” defensive tackle Chris Jones said. “Give the ball to the opponent. If we score, we go for [a two-point conversion].”\\n', '\\n', 'Safety Justin Reid said the Chiefs had conversations about the rule change dating back to training camp. “We’ve talked about it all year,” Reid said. “We talked about it in training camp about how the rules were different in regular season versus the playoffs. Every week of the playoffs we talked about the overtime rule.”\\n', '\\n', 'Chiefs head coach Andy Reid admitted that even with planning and knowledge of the rules, it’s not clear what the right tactic is to follow.\\n', '\\n', '“There’s two ways: You kick it off or you receive it,” Reid said. “I’m not sure there’s a right answer, necessarily. Ours ended up being the right one. That’s what we felt was the right thing to do.”\\n', '\\n', 'One defense of San Francisco’s decision to take the ball involves what happens if the game is still tied after both teams have had a possession. Then, the game becomes sudden death – so there’s a clear potential edge in having the ball third. If the game was still tied after the first two possessions, the 49ers would have had the ball and any score would have won the championship.\\n', '\\n', '“We went through all the analytics and talked to those guys,” Shanahan said. “We wanted the ball third. If both teams matched and scored, we wanted to be the ones with a chance to go win.”\\n', '\\n', 'As for Armstead, he said he was first aware of the rules when he glanced at the stadium’s video screens.\\n', '\\n', '“They put it on the scoreboard, and everyone was like ‘Oh, even if you score, they get a chance still,’” Armstead said.\\n', '\\n', '***\\n', '\\n', '## Well, 2023 didn’t exactly go to plan, did it?\\n', '\\n', 'Here in the UK, the prime minister, Rishi Sunak, had promised us a government of stability and competence – not forgetting professionalism, integrity and accountability – after the rollercoaster ride of Boris Johnson and Liz Truss. Remember Liz? These days she seems like a long forgotten comedy act. Instead, Sunak took us even further through the looking-glass into the Conservative psychodrama. \\n', '\\n', 'Elsewhere, the picture has been no better. In the US, Donald Trump is now many people’s favourite to become president again. In Ukraine, the war has dragged on with no end in sight. The danger of the rest of the world getting battle fatigue and losing interest all too apparent. Then there is the war in the Middle East and not forgetting the climate crisis …\\n', '\\n', 'But a new year brings new hope. There are elections in many countries, including the UK and the US. We have to believe in change. That something better is possible. The Guardian will continue to cover events from all over the world and our reporting now feels especially important. But running a news gathering organisation doesn’t come cheap. \\n', '\\n', 'So this year, I am asking you – if you can afford it – to give money. Well, not to me personally – though you can if you like – but to the Guardian. The average monthly support in Canada is around CA$4, however much you give, all that matters is you’re choosing to support open, independent journalism.\\n', '\\n', 'With your help, we can make our journalism free to everyone. You won’t ever find any of our news reports or comment pieces tucked away behind a paywall. We couldn’t do this without you. Unlike our politicians, when we say we are in this together we mean it.\\n', '\\n', 'Happy new year!\\n']\n"
     ]
    }
   ],
   "source": [
    "example_file = open(\"data/file1.txt\")\n",
    "file_lines = example_file.readlines()\n",
    "print(file_lines)\n",
    "example_file.close()"
   ]
  },
  {
   "cell_type": "code",
   "execution_count": 13,
   "metadata": {},
   "outputs": [
    {
     "name": "stdout",
     "output_type": "stream",
     "text": [
      "# 49ers players admit they did not know overtime rules in Super Bowl loss to Chiefs\n",
      "\n",
      "---\n",
      "\n",
      "San Francisco’s decision to take the ball first in overtime during their Super Bowl loss to the Kansas City Chiefs will be debated all offseason. That scrutiny will be even stronger after some 49ers players admitted they weren’t aware of new rules regarding overtime.\n",
      "\n",
      "For many years, overtime ended as soon as one team scored. Then the rule was altered so both teams could possess the ball — unless the first team on offense scored a touchdown. In that case, the game would end on that TD, and that’s what happened when New England beat Atlanta 34-28 in Super Bowl 51.\n",
      "\n",
      "Fine margins leave a lifetime of Super Bowl what ifs for San Francisco 49ers\n",
      "Read more\n",
      "But the most recent rule change mandated that in the postseason, both teams can possess the ball even if the first offensive team scores a touchdown. Now NFL playoff overtime even more closely resembles the college OT format, where teams alternate possessions. And in college, teams often like to have the ball second because they’ll have a better sense of what they need on their drive.\n",
      "\n",
      "On Sunday, the 49ers took the ball in overtime and drove for a field goal, then lost 25-22 when Patrick Mahomes guided Kansas City 75 yards the other way for the winning touchdown on Sunday night. If they’d known three points wouldn’t be good enough, they could have gone for a touchdown in that spot.\n",
      "\n",
      "This time, Kansas City had that advantage, which meant the Chiefs had no choice but to go for it on fourth-and-one from their own 34, down three. They converted and eventually reached the end zone on a three-yard touchdown pass from Mahomes to Mecole Hardman.\n",
      "\n",
      "“That’s something we talked about,” San Francisco coach Kyle Shanahan said. “None of us have a ton of experience of it.”\n",
      "\n",
      "However, some 49ers players said they were not aware of the rule. “I didn’t even know about the new playoff overtime rule, so it was a surprise to me,” San Francisco defensive lineman Arik Armstead said. “I didn’t even really know what was going on in terms of that.”\n",
      "\n",
      "Shanahan said he had talked with his analytics team before Sunday’s game about overtime scenarios. That discussion does not appear to have filtered through to at least some of his players.\n",
      "\n",
      "“You know what? I didn’t even realize the playoff rules were different in overtime,” fullback and Harvard graduate Kyle Juszczyk said. “I assume you just want the ball to score a touchdown and win. I guess that’s not the case. I don’t totally know the strategy there. We hadn’t talked about it, no.”\n",
      "\n",
      "In contrast, Kansas City players said they knew about the new regulations.\n",
      "\n",
      "“We talked for two weeks about new overtime rules,” defensive tackle Chris Jones said. “Give the ball to the opponent. If we score, we go for [a two-point conversion].”\n",
      "\n",
      "Safety Justin Reid said the Chiefs had conversations about the rule change dating back to training camp. “We’ve talked about it all year,” Reid said. “We talked about it in training camp about how the rules were different in regular season versus the playoffs. Every week of the playoffs we talked about the overtime rule.”\n",
      "\n",
      "Chiefs head coach Andy Reid admitted that even with planning and knowledge of the rules, it’s not clear what the right tactic is to follow.\n",
      "\n",
      "“There’s two ways: You kick it off or you receive it,” Reid said. “I’m not sure there’s a right answer, necessarily. Ours ended up being the right one. That’s what we felt was the right thing to do.”\n",
      "\n",
      "One defense of San Francisco’s decision to take the ball involves what happens if the game is still tied after both teams have had a possession. Then, the game becomes sudden death – so there’s a clear potential edge in having the ball third. If the game was still tied after the first two possessions, the 49ers would have had the ball and any score would have won the championship.\n",
      "\n",
      "“We went through all the analytics and talked to those guys,” Shanahan said. “We wanted the ball third. If both teams matched and scored, we wanted to be the ones with a chance to go win.”\n",
      "\n",
      "As for Armstead, he said he was first aware of the rules when he glanced at the stadium’s video screens.\n",
      "\n",
      "“They put it on the scoreboard, and everyone was like ‘Oh, even if you score, they get a chance still,’” Armstead said.\n",
      "\n",
      "***\n",
      "\n",
      "## Well, 2023 didn’t exactly go to plan, did it?\n",
      "\n",
      "Here in the UK, the prime minister, Rishi Sunak, had promised us a government of stability and competence – not forgetting professionalism, integrity and accountability – after the rollercoaster ride of Boris Johnson and Liz Truss. Remember Liz? These days she seems like a long forgotten comedy act. Instead, Sunak took us even further through the looking-glass into the Conservative psychodrama. \n",
      "\n",
      "Elsewhere, the picture has been no better. In the US, Donald Trump is now many people’s favourite to become president again. In Ukraine, the war has dragged on with no end in sight. The danger of the rest of the world getting battle fatigue and losing interest all too apparent. Then there is the war in the Middle East and not forgetting the climate crisis …\n",
      "\n",
      "But a new year brings new hope. There are elections in many countries, including the UK and the US. We have to believe in change. That something better is possible. The Guardian will continue to cover events from all over the world and our reporting now feels especially important. But running a news gathering organisation doesn’t come cheap. \n",
      "\n",
      "So this year, I am asking you – if you can afford it – to give money. Well, not to me personally – though you can if you like – but to the Guardian. The average monthly support in Canada is around CA$4, however much you give, all that matters is you’re choosing to support open, independent journalism.\n",
      "\n",
      "With your help, we can make our journalism free to everyone. You won’t ever find any of our news reports or comment pieces tucked away behind a paywall. We couldn’t do this without you. Unlike our politicians, when we say we are in this together we mean it.\n",
      "\n",
      "Happy new year!\n",
      "\n"
     ]
    }
   ],
   "source": [
    "with open(\"data/file1.txt\") as f:\n",
    "    file_contents = f.read()\n",
    "\n",
    "print(file_contents)"
   ]
  },
  {
   "cell_type": "markdown",
   "metadata": {},
   "source": [
    "## Writing Files"
   ]
  },
  {
   "cell_type": "code",
   "execution_count": 17,
   "metadata": {},
   "outputs": [],
   "source": [
    "new_file = open(\"output_files/my_file01.txt\", \"w\")\n",
    "new_file.write(\"hi there\\nwhat a lovely day we're having\\nI hope you have a wonderful day.\")\n",
    "new_file.close()"
   ]
  },
  {
   "cell_type": "code",
   "execution_count": 18,
   "metadata": {},
   "outputs": [],
   "source": [
    "with open(\"output_files/my_file02.txt\", \"w\") as new_file:\n",
    "    new_file.write(\"it is greate to be alive\\nisn't it lovely?\")\n"
   ]
  },
  {
   "cell_type": "code",
   "execution_count": null,
   "metadata": {},
   "outputs": [],
   "source": [
    "with open(\"output_files/my_file01.txt\", \"a\") as existing_file:\n",
    "    existing_file.writelines([\"this is okay\", \"yeah\", \"you are a fool\"])"
   ]
  }
 ],
 "metadata": {
  "kernelspec": {
   "display_name": "Python 3",
   "language": "python",
   "name": "python3"
  },
  "language_info": {
   "codemirror_mode": {
    "name": "ipython",
    "version": 3
   },
   "file_extension": ".py",
   "mimetype": "text/x-python",
   "name": "python",
   "nbconvert_exporter": "python",
   "pygments_lexer": "ipython3",
   "version": "3.10.12"
  }
 },
 "nbformat": 4,
 "nbformat_minor": 2
}

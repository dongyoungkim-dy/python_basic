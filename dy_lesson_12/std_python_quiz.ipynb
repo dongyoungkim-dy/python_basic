{
 "cells": [
  {
   "cell_type": "markdown",
   "metadata": {},
   "source": [
    "# Exercise 1"
   ]
  },
  {
   "cell_type": "markdown",
   "metadata": {},
   "source": [
    "Input example: \n",
    "```python\n",
    "values = [7, 13, 4, 2, 1, 40, 59, 31, 5]\n",
    "position = 0\n",
    "diff = 3\n",
    "```\n",
    "\n",
    "Output:\n",
    "You should output `values[position + diff]`\n",
    "```\n",
    "2\n",
    "```\n",
    "\n",
    "\n",
    "If position + diff goes outside the length of values, it should wrap around\n",
    "Input example:\n",
    "```python\n",
    "values = [7, 13, 4, 2, 1, 40, 59, 31, 5]\n",
    "position = 7\n",
    "diff = 5\n",
    "```\n",
    "\n",
    "Output:\n",
    "Since position + diff >= len(values), the index to output wraps around\n",
    "```python\n",
    "2\n",
    "```\n",
    "\n",
    "\n",
    "You must also ensure that you can accept negative diff\n",
    "Input example:\n",
    "```python\n",
    "values = [7, 13, 4, 2, 1, 40, 59, 31, 5]\n",
    "position = 3\n",
    "diff = -5\n",
    "````\n",
    "\n",
    "Output:\n",
    "```\n",
    "31\n",
    "```\n",
    "\n",
    "Input:\n",
    "\n",
    "```python\n",
    "values = [\"Mon\", \"Tues\", \"Wed\", \"Thurs\", \"Fri\", \"Sat\", \"Sun\"]\n",
    "position = 2\n",
    "diff = 7\n",
    "```\n",
    "\n",
    "Output:\n",
    "\n",
    "```\n",
    "\"Wed\"\n",
    "```"
   ]
  },
  {
   "cell_type": "code",
   "execution_count": 8,
   "metadata": {},
   "outputs": [],
   "source": [
    "values = [7, 13, 4, 2, 1, 40, 59, 31, 5]\n",
    "position = 7\n",
    "diff = 5\n",
    "\n"
   ]
  },
  {
   "cell_type": "markdown",
   "metadata": {},
   "source": [
    "Strategy\n",
    "1. Calculate the length of a list of the values (i.e., len(values)).\n",
    "2. Find a place for index position + diff in the values length.\n",
    "    - Case1: 0 < position + diff =< len(values)\n",
    "        - Keep as it\n",
    "    - Case2: -len(values) < position + diff < 0\n",
    "        - Idex = len(values) + (position + diff)\n",
    "    - Case3: position + diff =< -len(values) \n",
    "        - Index = -(position + diff) % len(values) + len(values)\n",
    "    - Case4: len(values) =< position + diff\n",
    "        - Index = (position + diff) % len(values) \n",
    "3. Return the corresponding value."
   ]
  },
  {
   "cell_type": "code",
   "execution_count": 3,
   "metadata": {},
   "outputs": [
    {
     "data": {
      "text/plain": [
       "9"
      ]
     },
     "execution_count": 3,
     "metadata": {},
     "output_type": "execute_result"
    }
   ],
   "source": [
    "len(values)"
   ]
  },
  {
   "cell_type": "code",
   "execution_count": 9,
   "metadata": {},
   "outputs": [
    {
     "data": {
      "text/plain": [
       "12"
      ]
     },
     "execution_count": 9,
     "metadata": {},
     "output_type": "execute_result"
    }
   ],
   "source": [
    "position+diff"
   ]
  },
  {
   "cell_type": "code",
   "execution_count": 39,
   "metadata": {},
   "outputs": [
    {
     "name": "stdout",
     "output_type": "stream",
     "text": [
      "9\n"
     ]
    }
   ],
   "source": [
    "values = [7, 13, 4, 2, 1, 40, 59, 31, 5]\n",
    "position = -9\n",
    "diff = 0\n",
    "\n",
    "\n",
    "input_length = len(values)\n",
    "my_index = []\n",
    "pdsum = position+diff\n",
    "\n",
    "if 0 < pdsum <=  input_length-1:\n",
    "    my_index = pdsum\n",
    "elif 0 < input_length -1 < pdsum :\n",
    "    my_index = pdsum % input_length\n",
    "elif -input_length < pdsum < 0:\n",
    "    my_index = input_length + pdsum \n",
    "elif pdsum <= -input_length < 0:\n",
    "    my_index = -(-pdsum % input_length) + input_length\n",
    "print(my_index)"
   ]
  },
  {
   "cell_type": "code",
   "execution_count": 51,
   "metadata": {},
   "outputs": [
    {
     "data": {
      "text/plain": [
       "59"
      ]
     },
     "execution_count": 51,
     "metadata": {},
     "output_type": "execute_result"
    }
   ],
   "source": [
    "def ex1func(values, diff, position):\n",
    "    input_length = len(values)\n",
    "    my_index = []\n",
    "    pdsum = position+diff\n",
    "\n",
    "    if 0 <= pdsum <=  input_length-1:\n",
    "        my_index = pdsum\n",
    "    elif 0 < input_length -1 < pdsum :\n",
    "        my_index = pdsum % input_length\n",
    "    elif -input_length < pdsum < 0:\n",
    "        my_index = input_length + pdsum \n",
    "    elif pdsum <= -input_length < 0:\n",
    "        if -pdsum % input_length == 0:\n",
    "            my_index = 0\n",
    "        else: my_index = -(-pdsum % input_length) + input_length\n",
    "    else :\n",
    "        my_index = print(\"What am I missing?\" + \"Your input is\" + pdsum)\n",
    "    return(values[my_index])\n",
    "\n",
    "values = [7, 13, 4, 2, 1, 40, 59, 31, 5]\n",
    "position = -1\n",
    "diff = -11\n",
    "ex1func(values, diff, position)"
   ]
  },
  {
   "cell_type": "code",
   "execution_count": 32,
   "metadata": {},
   "outputs": [
    {
     "data": {
      "text/plain": [
       "31"
      ]
     },
     "execution_count": 32,
     "metadata": {},
     "output_type": "execute_result"
    }
   ],
   "source": [
    "values = [7, 13, 4, 2, 1, 40, 59, 31, 5]\n",
    "position = 3\n",
    "diff = -5\n",
    "ex1func(values, diff, position)"
   ]
  },
  {
   "cell_type": "code",
   "execution_count": 33,
   "metadata": {},
   "outputs": [
    {
     "data": {
      "text/plain": [
       "2"
      ]
     },
     "execution_count": 33,
     "metadata": {},
     "output_type": "execute_result"
    }
   ],
   "source": [
    "values = [7, 13, 4, 2, 1, 40, 59, 31, 5]\n",
    "position = 7\n",
    "diff = 5\n",
    "ex1func(values, diff, position)"
   ]
  },
  {
   "cell_type": "code",
   "execution_count": null,
   "metadata": {},
   "outputs": [
    {
     "data": {
      "text/plain": [
       "59"
      ]
     },
     "execution_count": 34,
     "metadata": {},
     "output_type": "execute_result"
    }
   ],
   "source": [
    "values = [7, 13, 4, 2, 1, 40, 59, 31, 5]\n",
    "position = 3\n",
    "diff = -15\n",
    "ex1func(values, diff, position)"
   ]
  },
  {
   "cell_type": "code",
   "execution_count": 41,
   "metadata": {},
   "outputs": [
    {
     "data": {
      "text/plain": [
       "7"
      ]
     },
     "execution_count": 41,
     "metadata": {},
     "output_type": "execute_result"
    }
   ],
   "source": [
    "values = [7, 13, 4, 2, 1, 40, 59, 31, 5]\n",
    "position = 8\n",
    "diff = 1\n",
    "ex1func(values, diff, position)"
   ]
  },
  {
   "cell_type": "code",
   "execution_count": 44,
   "metadata": {},
   "outputs": [
    {
     "data": {
      "text/plain": [
       "7"
      ]
     },
     "execution_count": 44,
     "metadata": {},
     "output_type": "execute_result"
    }
   ],
   "source": [
    "values = [7, 13, 4, 2, 1, 40, 59, 31, 5]\n",
    "position = 1\n",
    "diff = -1\n",
    "ex1func(values, diff, position)"
   ]
  },
  {
   "cell_type": "code",
   "execution_count": 53,
   "metadata": {},
   "outputs": [
    {
     "data": {
      "text/plain": [
       "59"
      ]
     },
     "execution_count": 53,
     "metadata": {},
     "output_type": "execute_result"
    }
   ],
   "source": [
    "values = [7, 13, 4, 2, 1, 40, 59, 31, 5]\n",
    "position = 0\n",
    "diff = -21\n",
    "ex1func(values, diff, position)"
   ]
  },
  {
   "cell_type": "code",
   "execution_count": 56,
   "metadata": {},
   "outputs": [
    {
     "data": {
      "text/plain": [
       "7"
      ]
     },
     "execution_count": 56,
     "metadata": {},
     "output_type": "execute_result"
    }
   ],
   "source": [
    "values = [7, 13, 4, 2, 1, 40, 59, 31, 5]\n",
    "position = 0\n",
    "diff = -90\n",
    "ex1func(values, diff, position)"
   ]
  },
  {
   "cell_type": "code",
   "execution_count": 57,
   "metadata": {},
   "outputs": [
    {
     "data": {
      "text/plain": [
       "0"
      ]
     },
     "execution_count": 57,
     "metadata": {},
     "output_type": "execute_result"
    }
   ],
   "source": [
    "-90 % len(values)"
   ]
  },
  {
   "cell_type": "code",
   "execution_count": 60,
   "metadata": {},
   "outputs": [],
   "source": [
    "for i in range(-9000, 9001):\n",
    "    assert ex1func(values, i, 0) == values[i % len(values)], f\"Not equal at {i}\""
   ]
  },
  {
   "cell_type": "code",
   "execution_count": 64,
   "metadata": {},
   "outputs": [
    {
     "data": {
      "text/plain": [
       "31"
      ]
     },
     "execution_count": 64,
     "metadata": {},
     "output_type": "execute_result"
    }
   ],
   "source": [
    "values = [7, 13, 4, 2, 1, 40, 59, 31, 5]\n",
    "position = 0\n",
    "diff = -9\n",
    "values[(position + diff) % len(values)]"
   ]
  },
  {
   "cell_type": "code",
   "execution_count": 70,
   "metadata": {},
   "outputs": [
    {
     "data": {
      "text/plain": [
       "[-1, 0, 1, 2, 3, 4, 5, 6, 7, 8, 9]"
      ]
     },
     "execution_count": 70,
     "metadata": {},
     "output_type": "execute_result"
    }
   ],
   "source": [
    "list(range(-1, 10))\n"
   ]
  }
 ],
 "metadata": {
  "kernelspec": {
   "display_name": "env",
   "language": "python",
   "name": "python3"
  },
  "language_info": {
   "codemirror_mode": {
    "name": "ipython",
    "version": 3
   },
   "file_extension": ".py",
   "mimetype": "text/x-python",
   "name": "python",
   "nbconvert_exporter": "python",
   "pygments_lexer": "ipython3",
   "version": "3.10.9"
  }
 },
 "nbformat": 4,
 "nbformat_minor": 2
}

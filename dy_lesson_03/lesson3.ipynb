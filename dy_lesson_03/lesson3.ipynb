{
 "cells": [
  {
   "cell_type": "markdown",
   "metadata": {},
   "source": [
    "## Exercises"
   ]
  },
  {
   "cell_type": "markdown",
   "metadata": {},
   "source": [
    "### Exercise 1"
   ]
  },
  {
   "cell_type": "markdown",
   "metadata": {},
   "source": [
    "Get the sum of all the elements of the list of lists:\n",
    "\n",
    "input:\n",
    "```\n",
    "exercise1 = [[1, 2, 3, 4], [5, 6, 7], [8, 9, 10, 11, 12, 13], [14, 15]]\n",
    "```\n",
    "\n",
    "output: `120`"
   ]
  },
  {
   "cell_type": "code",
   "execution_count": 3,
   "metadata": {},
   "outputs": [],
   "source": [
    "exercise1 = [[1, 2, 3, 4], [5, 6, 7], [8, 9, 10, 11, 12, 13], [14, 15]]"
   ]
  },
  {
   "cell_type": "markdown",
   "metadata": {},
   "source": [
    "1. merge the list of lits\n",
    "2. make them into one list\n",
    "3. use sum() function"
   ]
  },
  {
   "cell_type": "code",
   "execution_count": 7,
   "metadata": {},
   "outputs": [
    {
     "name": "stdout",
     "output_type": "stream",
     "text": [
      "[1, 2, 3, 4]\n"
     ]
    }
   ],
   "source": [
    "print(exercise1[0])\n"
   ]
  },
  {
   "cell_type": "code",
   "execution_count": 1,
   "metadata": {},
   "outputs": [
    {
     "name": "stdout",
     "output_type": "stream",
     "text": [
      "[[1, 2, 3, 4], [5, 6, 7], [8, 9, 10, 11, 12, 13], [14, 15]]\n"
     ]
    }
   ],
   "source": [
    "exercise1 = [[1, 2, 3, 4], [5, 6, 7], [8, 9, 10, 11, 12, 13], [14, 15]]\n",
    "merged_list = []\n",
    "for i in range(len(exercise1)):\n",
    "    merged_list.append(exercise1[i])\n",
    "\n",
    "print(merged_list)    "
   ]
  },
  {
   "cell_type": "code",
   "execution_count": null,
   "metadata": {},
   "outputs": [],
   "source": [
    "## 1. Merge your list"
   ]
  },
  {
   "cell_type": "code",
   "execution_count": 11,
   "metadata": {},
   "outputs": [
    {
     "name": "stdout",
     "output_type": "stream",
     "text": [
      "[1, 2, 3, 4, 5, 6, 7, 8, 9, 10, 11, 12, 13, 14, 15]\n"
     ]
    }
   ],
   "source": [
    "def merge_list(my_list):\n",
    "    merged_list = []\n",
    "    for i in range(len(my_list)):\n",
    "        merged_list = merged_list + my_list[i]\n",
    "    return(merged_list)\n",
    "\n",
    "print(merge_list(exercise1))"
   ]
  },
  {
   "cell_type": "code",
   "execution_count": 23,
   "metadata": {},
   "outputs": [
    {
     "name": "stdout",
     "output_type": "stream",
     "text": [
      "[1, 2, 3, 4]\n",
      "[5, 6, 7]\n",
      "[8, 9, 10, 11, 12, 13]\n",
      "[14, 15]\n",
      "[1, 2, 3, 4, 5, 6, 7, 8, 9, 10, 11, 12, 13, 14, 15]\n"
     ]
    }
   ],
   "source": [
    "def merge_list(my_list):\n",
    "    merged_list = []\n",
    "    for i in my_list:\n",
    "        print(i)\n",
    "        merged_list = merged_list + i\n",
    "    return(merged_list)\n",
    "\n",
    "print(merge_list(exercise1))"
   ]
  },
  {
   "cell_type": "markdown",
   "metadata": {},
   "source": [
    "## Add them together"
   ]
  },
  {
   "cell_type": "code",
   "execution_count": 13,
   "metadata": {},
   "outputs": [
    {
     "data": {
      "text/plain": [
       "120"
      ]
     },
     "execution_count": 13,
     "metadata": {},
     "output_type": "execute_result"
    }
   ],
   "source": [
    "sum(merge_list(exercise1))"
   ]
  },
  {
   "cell_type": "markdown",
   "metadata": {},
   "source": [
    "## Ver2: Using list comprehension"
   ]
  },
  {
   "cell_type": "code",
   "execution_count": 16,
   "metadata": {},
   "outputs": [
    {
     "name": "stdout",
     "output_type": "stream",
     "text": [
      "120\n"
     ]
    }
   ],
   "source": [
    "print(sum([sum(x) for x in exercise1]))"
   ]
  },
  {
   "cell_type": "code",
   "execution_count": 19,
   "metadata": {},
   "outputs": [
    {
     "name": "stdout",
     "output_type": "stream",
     "text": [
      "120\n"
     ]
    }
   ],
   "source": [
    "final_answer = sum([x for my_list in exercise1 for x in my_list])\n",
    "print(final_answer)"
   ]
  },
  {
   "cell_type": "code",
   "execution_count": 20,
   "metadata": {},
   "outputs": [
    {
     "name": "stdout",
     "output_type": "stream",
     "text": [
      "120\n"
     ]
    }
   ],
   "source": [
    "total = 0\n",
    "for my_list in exercise1:\n",
    "    for x in my_list:\n",
    "        total += x\n",
    "print(total)"
   ]
  },
  {
   "cell_type": "markdown",
   "metadata": {},
   "source": [
    "## Exercise2"
   ]
  },
  {
   "cell_type": "markdown",
   "metadata": {},
   "source": [
    "You will implement matrix multplication in python using lists.\n",
    "\n",
    "input:\n",
    "```\n",
    "a = [[1, 2],\n",
    "    [3, 4],\n",
    "    [5, 6]]\n",
    "\n",
    "b = [[7, 8, 9],\n",
    "    [10, 11, 12]]\n",
    "```\n",
    "output:\n",
    "```\n",
    "[[ 27,  30,  33],\n",
    "[ 61,  68,  75],\n",
    "[ 95, 106, 117]]\n",
    "```"
   ]
  },
  {
   "cell_type": "code",
   "execution_count": 38,
   "metadata": {},
   "outputs": [
    {
     "name": "stdout",
     "output_type": "stream",
     "text": [
      "[[1, 2], [3, 4], [5, 6]]\n",
      "[[7, 8, 9], [10, 11, 12]]\n"
     ]
    }
   ],
   "source": [
    "a = [[1, 2],\n",
    "    [3, 4],\n",
    "    [5, 6]]\n",
    "\n",
    "b = [[7, 8, 9],\n",
    "    [10, 11, 12]]\n",
    "\n",
    "print(a)\n",
    "print(b)"
   ]
  },
  {
   "cell_type": "code",
   "execution_count": 93,
   "metadata": {},
   "outputs": [
    {
     "name": "stdout",
     "output_type": "stream",
     "text": [
      "27 30 33\n",
      "61 68 75\n",
      "95 106 117\n"
     ]
    }
   ],
   "source": [
    "matrix_1_1 = a[0][0] * b[0][0] + a[0][1] * b[1][0]\n",
    "matrix_1_2 = a[0][0] * b[0][1] + a[0][1] * b[1][1]\n",
    "matrix_1_3 = a[0][0] * b[0][2] + a[0][1] * b[1][2]\n",
    "\n",
    "matrix_2_1 = a[1][0] * b[0][0] + a[1][1] * b[1][0]\n",
    "matrix_2_2 = a[1][0] * b[0][1] + a[1][1] * b[1][1]\n",
    "matrix_2_3 = a[1][0] * b[0][2] + a[1][1] * b[1][2]\n",
    "\n",
    "matrix_3_1 = a[2][0] * b[0][0] + a[2][1] * b[1][0]\n",
    "matrix_3_2 = a[2][0] * b[0][1] + a[2][1] * b[1][1]\n",
    "matrix_3_3 = a[2][0] * b[0][2] + a[2][1] * b[1][2]\n",
    "\n",
    "print(matrix_1_1, matrix_1_2, matrix_1_3)\n",
    "print(matrix_2_1, matrix_2_2, matrix_2_3)\n",
    "print(matrix_3_1, matrix_3_2, matrix_3_3)\n"
   ]
  },
  {
   "cell_type": "code",
   "execution_count": 96,
   "metadata": {},
   "outputs": [
    {
     "name": "stdout",
     "output_type": "stream",
     "text": [
      "[27, 30, 33, 61, 68, 75, 95, 106, 117]\n"
     ]
    }
   ],
   "source": [
    "matrix_list = [a[row][0] * b[0][col] + a[row][1] * b[1][col] for row in range(0,3) for col in range(0,3)]\n",
    "print(matrix_list)"
   ]
  },
  {
   "cell_type": "code",
   "execution_count": 17,
   "metadata": {},
   "outputs": [
    {
     "name": "stdout",
     "output_type": "stream",
     "text": [
      "[[1, 2, 3], [1, 2, 3]]\n"
     ]
    }
   ],
   "source": [
    "list_a = []\n",
    "\n",
    "list_a.append([1, 2, 3])\n",
    "list_a.append([1, 2, 3])\n",
    "\n",
    "print(list_a)"
   ]
  },
  {
   "cell_type": "code",
   "execution_count": 28,
   "metadata": {},
   "outputs": [
    {
     "data": {
      "text/plain": [
       "3"
      ]
     },
     "execution_count": 28,
     "metadata": {},
     "output_type": "execute_result"
    }
   ],
   "source": [
    "gg = [1, 2, 3]\n",
    "len(gg)"
   ]
  },
  {
   "cell_type": "code",
   "execution_count": 53,
   "metadata": {},
   "outputs": [],
   "source": [
    "a = [[1, 2, 3],\n",
    "    [3, 4, 5],\n",
    "    [5, 6, 7]]\n",
    "\n",
    "b = [[7, 8, 9, 10],\n",
    "    [10, 11, 12, 13],\n",
    "    [13, 14, 15, 16]]"
   ]
  },
  {
   "cell_type": "code",
   "execution_count": 51,
   "metadata": {},
   "outputs": [
    {
     "name": "stdout",
     "output_type": "stream",
     "text": [
      "1\n",
      "1\n",
      "2\n",
      "3\n",
      "9\n",
      "2\n",
      "1\n",
      "2\n",
      "3\n",
      "21\n",
      "[9, 21]\n"
     ]
    }
   ],
   "source": [
    "sumnum = 0\n",
    "somelist = []\n",
    "for i in range(1,3):\n",
    "    print(i)\n",
    "    for j in range(1,4):\n",
    "        print(j)\n",
    "        sumnum = sumnum + j+i\n",
    "    print(sumnum)\n",
    "    somelist.append(sumnum)\n",
    "print(somelist)\n"
   ]
  },
  {
   "cell_type": "code",
   "execution_count": null,
   "metadata": {},
   "outputs": [
    {
     "name": "stdout",
     "output_type": "stream",
     "text": [
      "[[27, 30, 33, 36], [61, 68, 75, 82], [95, 106, 117, 128]]\n"
     ]
    }
   ],
   "source": [
    "matrix_list = []\n",
    "for row in range(len(a)):\n",
    "    row_list = []\n",
    "    for col in range(len(b[0])):\n",
    "        row_list = row_list + [a[row][0] * b[0][col] + a[row][1] * b[1][col]]\n",
    "    matrix_list.append(row_list)\n",
    "print(matrix_list)\n"
   ]
  },
  {
   "cell_type": "code",
   "execution_count": 54,
   "metadata": {},
   "outputs": [
    {
     "name": "stdout",
     "output_type": "stream",
     "text": [
      "7\n",
      "27\n",
      "66\n",
      "[66]\n",
      "8\n",
      "30\n",
      "72\n",
      "[66, 72]\n",
      "9\n",
      "33\n",
      "78\n",
      "[66, 72, 78]\n",
      "10\n",
      "36\n",
      "84\n",
      "[66, 72, 78, 84]\n",
      "21\n",
      "61\n",
      "126\n",
      "[126]\n",
      "24\n",
      "68\n",
      "138\n",
      "[126, 138]\n",
      "27\n",
      "75\n",
      "150\n",
      "[126, 138, 150]\n",
      "30\n",
      "82\n",
      "162\n",
      "[126, 138, 150, 162]\n",
      "35\n",
      "95\n",
      "186\n",
      "[186]\n",
      "40\n",
      "106\n",
      "204\n",
      "[186, 204]\n",
      "45\n",
      "117\n",
      "222\n",
      "[186, 204, 222]\n",
      "50\n",
      "128\n",
      "240\n",
      "[186, 204, 222, 240]\n",
      "[[66, 72, 78, 84], [126, 138, 150, 162], [186, 204, 222, 240]]\n"
     ]
    }
   ],
   "source": [
    "# a = [[1, 0],\n",
    "#      [0, 1]]\n",
    "# b = [[2, 3],\n",
    "#      [4, 5]]\n",
    "\n",
    "matrix_list = []\n",
    "for row in range(len(a)):    \n",
    "    row_list = []\n",
    "    for col in range(len(b[0])):\n",
    "        matrix_element = 0\n",
    "        for common_col in range(len(a[0])):\n",
    "            matrix_element = matrix_element + a[row][common_col]*b[common_col][col]\n",
    "            print(matrix_element)\n",
    "        row_list = row_list + [matrix_element]\n",
    "        print(row_list)\n",
    "    matrix_list.append(row_list)\n",
    "print(matrix_list)\n",
    "\n",
    "#3 by 2 * 2 by 6"
   ]
  },
  {
   "cell_type": "code",
   "execution_count": null,
   "metadata": {},
   "outputs": [],
   "source": [
    "[a[row][0] * b[0][col] + a[row][1] * b[1][col]] + ...\n",
    "3 by 2 * 2 by 3\n",
    "4 by 6 * 6 by 10\n",
    "matrix_element = []\n",
    "for k in range(len(a)):\n",
    "    matrix_element = matrix_element + a[row][k]*b[k][col]"
   ]
  },
  {
   "cell_type": "code",
   "execution_count": 54,
   "metadata": {},
   "outputs": [
    {
     "name": "stdout",
     "output_type": "stream",
     "text": [
      "27\n"
     ]
    },
    {
     "ename": "IndexError",
     "evalue": "list index out of range",
     "output_type": "error",
     "traceback": [
      "\u001b[0;31m---------------------------------------------------------------------------\u001b[0m",
      "\u001b[0;31mIndexError\u001b[0m                                Traceback (most recent call last)",
      "Cell \u001b[0;32mIn[54], line 3\u001b[0m\n\u001b[1;32m      1\u001b[0m \u001b[38;5;28;01mfor\u001b[39;00m a_i \u001b[38;5;129;01min\u001b[39;00m \u001b[38;5;28mrange\u001b[39m(\u001b[38;5;28mlen\u001b[39m(a)):\n\u001b[1;32m      2\u001b[0m     \u001b[38;5;28;01mfor\u001b[39;00m b_i \u001b[38;5;129;01min\u001b[39;00m \u001b[38;5;28mrange\u001b[39m(\u001b[38;5;28mlen\u001b[39m(b)):\n\u001b[0;32m----> 3\u001b[0m         \u001b[38;5;28mprint\u001b[39m(a[a_i][b_i] \u001b[38;5;241m*\u001b[39m b[a_i][b_i] \u001b[38;5;241m+\u001b[39m \u001b[43ma\u001b[49m\u001b[43m[\u001b[49m\u001b[43ma_i\u001b[49m\u001b[43m]\u001b[49m\u001b[43m[\u001b[49m\u001b[43mb_i\u001b[49m\u001b[38;5;241;43m+\u001b[39;49m\u001b[38;5;241;43m1\u001b[39;49m\u001b[43m]\u001b[49m \u001b[38;5;241m*\u001b[39mb[a_i\u001b[38;5;241m+\u001b[39m\u001b[38;5;241m1\u001b[39m][b_i])\n",
      "\u001b[0;31mIndexError\u001b[0m: list index out of range"
     ]
    }
   ],
   "source": [
    "for a_i in range(len(a)):\n",
    "    for b_i in range(len(b)):\n",
    "        print(a[a_i][b_i] * b[a_i][b_i] + a[a_i][b_i+1] *b[a_i+1][b_i])"
   ]
  },
  {
   "cell_type": "code",
   "execution_count": 22,
   "metadata": {},
   "outputs": [
    {
     "name": "stdout",
     "output_type": "stream",
     "text": [
      "[1, 2]\n",
      "[7, 10]\n",
      "7\n",
      "20\n"
     ]
    }
   ],
   "source": [
    "print([x for x in a][0])\n",
    "print([x[0] for x in b])\n",
    "for i in range(0, 2):\n",
    "        print([x for x in a][0][i]*[x[0] for x in b][i])"
   ]
  },
  {
   "cell_type": "code",
   "execution_count": 90,
   "metadata": {},
   "outputs": [
    {
     "name": "stdout",
     "output_type": "stream",
     "text": [
      "[1, 2]\n",
      "[7, 10]\n",
      "7\n",
      "20\n",
      "24\n",
      "44\n",
      "45\n",
      "72\n"
     ]
    }
   ],
   "source": [
    "# print([x for x in a])\n",
    "# print([x[0] for x in a])\n",
    "print([x for x in a][0])\n",
    "print([x[0] for x in b])\n",
    "matrix_1_1 = 0\n",
    "for j in range(0,3):\n",
    "    for i in range(0, 2):\n",
    "        print([x for x in a][j][i]*[x[j] for x in b][i])\n",
    "        # matrix_1_1 += [x for x in a][j][i]*[x[j] for x in b][i]\n"
   ]
  },
  {
   "cell_type": "code",
   "execution_count": 34,
   "metadata": {},
   "outputs": [
    {
     "data": {
      "text/plain": [
       "array([[ 66,  72,  78,  84],\n",
       "       [126, 138, 150, 162],\n",
       "       [186, 204, 222, 240]])"
      ]
     },
     "execution_count": 34,
     "metadata": {},
     "output_type": "execute_result"
    }
   ],
   "source": [
    "# Using numpy\n",
    "import numpy as np \n",
    "\n",
    "# a = np.array(\n",
    "#     [[1, 2],\n",
    "#     [3, 4],\n",
    "#     [5, 6]])\n",
    "\n",
    "# b = np.array(\n",
    "#     [[7, 8, 9],\n",
    "#     [10, 11, 12]])\n",
    "\n",
    "a = np.array([[1, 2, 3],\n",
    "    [3, 4, 5],\n",
    "    [5, 6, 7]])\n",
    "\n",
    "b = np.array([[7, 8, 9, 10],\n",
    "    [10, 11, 12, 13],\n",
    "    [13, 14, 15, 16]])\n",
    "\n",
    "a @ b"
   ]
  },
  {
   "cell_type": "markdown",
   "metadata": {},
   "source": [
    "input: odd number\n",
    "output: print a diamond with the width of that odd number\n",
    "\n",
    "example:\n",
    "\n",
    "input: 3\n",
    "output:\n",
    " * \n",
    "* *\n",
    " * \n",
    "\n",
    "\n",
    "input: 1\n",
    "output:\n",
    "*\n",
    "\n",
    "input: 5\n",
    "output: \n",
    "  *  \n",
    " * * \n",
    "*   *\n",
    " * * \n",
    "  *\n",
    "\n",
    "You might find the // operator useful\n",
    "\n",
    "the // operator is used for floor division\n",
    "\n"
   ]
  },
  {
   "cell_type": "code",
   "execution_count": 4,
   "metadata": {},
   "outputs": [
    {
     "name": "stdout",
     "output_type": "stream",
     "text": [
      "2\n"
     ]
    }
   ],
   "source": [
    "\n",
    "x = 5 // 2\n",
    "x == 2\n",
    "print(x)\n",
    "y = 4 // 2\n",
    "# y == 2\n",
    "\n",
    "z = 7 // 2"
   ]
  },
  {
   "cell_type": "code",
   "execution_count": 11,
   "metadata": {},
   "outputs": [
    {
     "name": "stdout",
     "output_type": "stream",
     "text": [
      "*\n",
      "*\n",
      "\n",
      "\n",
      "\n"
     ]
    }
   ],
   "source": [
    "def asterisk(n=1):\n",
    "    print(\"*\")\n",
    "    pass\n",
    "    print(\"*\")\n",
    "asterisk()\n",
    "for x in range(1,3+1):\n",
    "    print(\"\")"
   ]
  },
  {
   "cell_type": "code",
   "execution_count": null,
   "metadata": {},
   "outputs": [],
   "source": []
  },
  {
   "cell_type": "code",
   "execution_count": null,
   "metadata": {},
   "outputs": [],
   "source": []
  }
 ],
 "metadata": {
  "kernelspec": {
   "display_name": "Python 3",
   "language": "python",
   "name": "python3"
  },
  "language_info": {
   "codemirror_mode": {
    "name": "ipython",
    "version": 3
   },
   "file_extension": ".py",
   "mimetype": "text/x-python",
   "name": "python",
   "nbconvert_exporter": "python",
   "pygments_lexer": "ipython3",
   "version": "3.12.1"
  }
 },
 "nbformat": 4,
 "nbformat_minor": 2
}

{
 "cells": [
  {
   "cell_type": "markdown",
   "metadata": {},
   "source": [
    "# Dictionaries"
   ]
  },
  {
   "cell_type": "code",
   "execution_count": 1,
   "metadata": {},
   "outputs": [],
   "source": [
    "my_dict1 = dict()\n",
    "my_dict2 = {}"
   ]
  },
  {
   "cell_type": "code",
   "execution_count": 2,
   "metadata": {},
   "outputs": [
    {
     "data": {
      "text/plain": [
       "dict"
      ]
     },
     "execution_count": 2,
     "metadata": {},
     "output_type": "execute_result"
    }
   ],
   "source": [
    "type(my_dict1)"
   ]
  },
  {
   "cell_type": "code",
   "execution_count": 3,
   "metadata": {},
   "outputs": [
    {
     "data": {
      "text/plain": [
       "dict"
      ]
     },
     "execution_count": 3,
     "metadata": {},
     "output_type": "execute_result"
    }
   ],
   "source": [
    "type(my_dict2)"
   ]
  },
  {
   "cell_type": "code",
   "execution_count": 8,
   "metadata": {},
   "outputs": [
    {
     "name": "stdout",
     "output_type": "stream",
     "text": [
      "{'Bob': 10, 'Alice': 15, 'DY': 7}\n",
      "{'Bob': [10, 12], 'Alice': {'Hey': [15, 7]}, 'DY': 7}\n"
     ]
    }
   ],
   "source": [
    "example1 = {\"Bob\" : 10, \"Alice\" : 15, \"DY\" : 7}\n",
    "example2 = {}\n",
    "example2[\"Bob\"] = [10, 12]\n",
    "example2[\"Alice\"] = {\"Hey\" : [15, 7]}\n",
    "example2[\"DY\"] = 7\n",
    "print(example1)\n",
    "print(example2)\n",
    "\n"
   ]
  },
  {
   "cell_type": "code",
   "execution_count": 13,
   "metadata": {},
   "outputs": [
    {
     "name": "stdout",
     "output_type": "stream",
     "text": [
      "dict_keys(['Bob', 'Alice', 'DY'])\n",
      "dict_values([10, 15, 7])\n",
      "Keys\n",
      "Bob\n",
      "Alice\n",
      "DY\n",
      "\n",
      "Values\n",
      "10\n",
      "15\n",
      "7\n"
     ]
    }
   ],
   "source": [
    "print(example1.keys())\n",
    "print(example1.values())\n",
    "\n",
    "print(\"Keys\")\n",
    "for key in example1.keys():\n",
    "    print(key)\n",
    "\n",
    "print()\n",
    "\n",
    "print(\"Values\")\n",
    "for value in example1.values():\n",
    "    print(value)"
   ]
  },
  {
   "cell_type": "code",
   "execution_count": 17,
   "metadata": {},
   "outputs": [
    {
     "name": "stdout",
     "output_type": "stream",
     "text": [
      "dict_items([('Bob', 10), ('Alice', 15), ('DY', 7)])\n",
      "('Bob', 10)\n",
      "('Alice', 15)\n",
      "('DY', 7)\n"
     ]
    }
   ],
   "source": [
    "print(example1.items())\n",
    "\n",
    "for t in example1.items():\n",
    "    print(t)\n"
   ]
  },
  {
   "cell_type": "code",
   "execution_count": 23,
   "metadata": {},
   "outputs": [
    {
     "name": "stdout",
     "output_type": "stream",
     "text": [
      "Bob 10\n",
      "Alice 15\n",
      "DY 7\n",
      "DY 7\n"
     ]
    }
   ],
   "source": [
    "for k, v in example1.items():\n",
    "    print(k, v)\n",
    "\n"
   ]
  },
  {
   "cell_type": "code",
   "execution_count": 22,
   "metadata": {},
   "outputs": [
    {
     "name": "stdout",
     "output_type": "stream",
     "text": [
      "1\n",
      "5\n"
     ]
    }
   ],
   "source": [
    "a, b = (1, 5)\n",
    "print(a)\n",
    "print(b)"
   ]
  },
  {
   "cell_type": "code",
   "execution_count": null,
   "metadata": {},
   "outputs": [],
   "source": []
  },
  {
   "cell_type": "code",
   "execution_count": 14,
   "metadata": {},
   "outputs": [
    {
     "name": "stdout",
     "output_type": "stream",
     "text": [
      "{'Alice': 'Bob', 'Tornado': 'California'}\n",
      "{'Tornado': 'California'}\n"
     ]
    }
   ],
   "source": [
    "example3 = {\"Alice\" : \"Bob\", \"Tornado\" : \"California\"}\n",
    "print(example3)\n",
    "\n",
    "del example3[\"Alice\"]\n",
    "\n",
    "print(example3)"
   ]
  },
  {
   "cell_type": "code",
   "execution_count": 27,
   "metadata": {},
   "outputs": [
    {
     "name": "stdout",
     "output_type": "stream",
     "text": [
      "{'Alice': 'California'}\n",
      "{'Alice': 'ted', 'bob': 'candy'}\n",
      "Alice is here\n"
     ]
    }
   ],
   "source": [
    "example4 = {\"Alice\" : \"Bob\", \"Alice\" : \"California\"}\n",
    "print(example4)\n",
    "example4[\"Alice\"] = \"ted\"\n",
    "example4[\"bob\"] = \"candy\"\n",
    "print(example4)\n",
    "\n",
    "if \"Alice\" in example4:\n",
    "    print(\"Alice is here\")"
   ]
  },
  {
   "cell_type": "code",
   "execution_count": 41,
   "metadata": {},
   "outputs": [
    {
     "name": "stdout",
     "output_type": "stream",
     "text": [
      "{'cat', 'dog', 'horse', 'mouse'}\n",
      "{'cat': 15, 'dog': 10, 'horse': 15, 'mouse': 5}\n"
     ]
    }
   ],
   "source": [
    "words = [\"cat\", \"dog\", \"cat\", \"horse\", \"horse\", \"horse\", \"cat\", \"dog\", \"mouse\"] * 5\n",
    "\n",
    "# Get the counts of each word in the list \n",
    "print(set(words))\n",
    "empty_dic = {\"cat\": 0, \"dog\": 0, \"horse\":0, \"mouse\":0}\n",
    "for i in words:\n",
    "    if i in empty_dic:\n",
    "        empty_dic[i] +=1\n",
    "\n",
    "print(empty_dic)\n",
    "\n",
    "\n",
    "\n"
   ]
  },
  {
   "cell_type": "markdown",
   "metadata": {},
   "source": [
    "Using set()"
   ]
  },
  {
   "cell_type": "code",
   "execution_count": 50,
   "metadata": {},
   "outputs": [
    {
     "ename": "SyntaxError",
     "evalue": "unterminated string literal (detected at line 11) (1060245459.py, line 11)",
     "output_type": "error",
     "traceback": [
      "\u001b[0;36m  Cell \u001b[0;32mIn[50], line 11\u001b[0;36m\u001b[0m\n\u001b[0;31m    long_dic[\"i] +=1\u001b[0m\n\u001b[0m             ^\u001b[0m\n\u001b[0;31mSyntaxError\u001b[0m\u001b[0;31m:\u001b[0m unterminated string literal (detected at line 11)\n"
     ]
    }
   ],
   "source": [
    "words = [\"cat\", \"dog\", \"cat\", \"horse\", \"horse\", \"horse\", \"cat\", \"dog\", \"mouse\"] * 5\n",
    "\n",
    "# Get the counts of each word in the list \n",
    "print(set(words))\n",
    "long_dic = {}\n",
    "for keys in set(words):\n",
    "    long_dic[keys] = 0\n",
    "print(long_dic)\n",
    "for i in words:\n",
    "    if i in long_dic:\n",
    "        long_dic[i] +=1\n",
    "print(long_dic)\n",
    "\n",
    "\n",
    "\n"
   ]
  },
  {
   "cell_type": "markdown",
   "metadata": {},
   "source": [
    "Without using set()"
   ]
  },
  {
   "cell_type": "code",
   "execution_count": 49,
   "metadata": {},
   "outputs": [
    {
     "name": "stdout",
     "output_type": "stream",
     "text": [
      "{'cat': 0, 'dog': 0, 'horse': 0, 'mouse': 0}\n",
      "{'cat': 15, 'dog': 10, 'horse': 15, 'mouse': 5}\n"
     ]
    }
   ],
   "source": [
    "words = [\"cat\", \"dog\", \"cat\", \"horse\", \"horse\", \"horse\", \"cat\", \"dog\", \"mouse\"] * 5\n",
    "\n",
    "# Get the counts of each word in the list \n",
    "long_dic = {}\n",
    "for keys in words:\n",
    "    long_dic[keys] = 0\n",
    "print(long_dic)\n",
    "for i in words:\n",
    "    if i in long_dic:\n",
    "        long_dic[i] +=1\n",
    "print(long_dic)\n"
   ]
  },
  {
   "cell_type": "code",
   "execution_count": null,
   "metadata": {},
   "outputs": [],
   "source": [
    "\n",
    "def relationship_status(from_member, to_member, social_graph):\n",
    "    '''Relationship Status.\n",
    "    20 points.\n",
    "\n",
    "    Let us pretend that you are building a new app.\n",
    "    Your app supports social media functionality, which means that users can have\n",
    "    relationships with other users.\n",
    "\n",
    "    There are two guidelines for describing relationships on this social media app:\n",
    "    1. Any user can follow any other user.\n",
    "    2. If two users follow each other, they are considered friends.\n",
    "\n",
    "    This function describes the relationship that two users have with each other.\n",
    "\n",
    "    Please see `advanced_sample_data.py` for sample data. The social graph\n",
    "    will adhere to the same pattern.\n",
    "\n",
    "    Parameters\n",
    "    ----------\n",
    "    from_member: str\n",
    "        the subject member\n",
    "    to_member: str\n",
    "        the object member\n",
    "    social_graph: dict\n",
    "        the relationship data\n",
    "\n",
    "    Returns\n",
    "    -------\n",
    "    str\n",
    "        \"follower\" if from_member follows to_member,\n",
    "        \"followed by\" if from_member is followed by to_member,\n",
    "        \"friends\" if from_member and to_member follow each other,\n",
    "        \"no relationship\" if neither from_member nor to_member follow each other.\n",
    "    '''\n",
    "    # Replace `pass` with your code.\n",
    "    # Stay within the function. Only use the parameters as input. The function should return your answer.\n",
    "    pass"
   ]
  },
  {
   "cell_type": "markdown",
   "metadata": {},
   "source": [
    "Strategy\n",
    "\n",
    "1. Loop social_graph data\n",
    "2. Make a dictionary with a key and values. Here, the key id is a id of the from_member user. And values are the ids that the key follows.\n",
    "Logic to identify \"follower\"\n",
    "3. if from_member in keys.\n",
    "4. Search to_member in the values of the key.\n",
    "5. print \"follower\"\n",
    "Logic to identify \"followed by\"\n",
    "6. if to_member in keys.\n",
    "7. Search from_member in the values of the key.\n",
    "8. print \"followed by\"\n",
    "\n"
   ]
  },
  {
   "cell_type": "code",
   "execution_count": 53,
   "metadata": {},
   "outputs": [],
   "source": [
    "social_graph = {\n",
    "    \"@bongolpoc\":{\"first_name\":\"Joselito\",\n",
    "                  \"last_name\":\"Olpoc\",\n",
    "                  \"following\":[\n",
    "                  ]\n",
    "    },\n",
    "    \"@joaquin\":  {\"first_name\":\"Joaquin\",\n",
    "                  \"last_name\":\"Gonzales\",\n",
    "                  \"following\":[\n",
    "                      \"@chums\",\"@jobenilagan\"\n",
    "                  ]\n",
    "    },\n",
    "    \"@chums\" : {\"first_name\":\"Matthew\",\n",
    "                \"last_name\":\"Uy\",\n",
    "                \"following\":[\n",
    "                    \"@bongolpoc\",\"@miketan\",\"@rudyang\",\"@joeilagan\"\n",
    "                ]\n",
    "    },\n",
    "    \"@jobenilagan\":{\"first_name\":\"Joben\",\n",
    "                   \"last_name\":\"Ilagan\",\n",
    "                   \"following\":[\n",
    "                    \"@eeebeee\",\"@joeilagan\",\"@chums\",\"@joaquin\"\n",
    "                   ]\n",
    "    },\n",
    "    \"@joeilagan\":{\"first_name\":\"Joe\",\n",
    "                  \"last_name\":\"Ilagan\",\n",
    "                  \"following\":[\n",
    "                    \"@eeebeee\",\"@jobenilagan\",\"@chums\"\n",
    "                  ]\n",
    "    },\n",
    "    \"@eeebeee\":  {\"first_name\":\"Elizabeth\",\n",
    "                  \"last_name\":\"Ilagan\",\n",
    "                  \"following\":[\n",
    "                    \"@jobenilagan\",\"@joeilagan\"\n",
    "                  ]\n",
    "    },\n",
    "}"
   ]
  },
  {
   "cell_type": "code",
   "execution_count": 75,
   "metadata": {},
   "outputs": [
    {
     "name": "stdout",
     "output_type": "stream",
     "text": [
      "@bongolpoc []\n",
      "@joaquin ['@chums', '@jobenilagan']\n",
      "@chums ['@bongolpoc', '@miketan', '@rudyang', '@joeilagan']\n",
      "@jobenilagan ['@eeebeee', '@joeilagan', '@chums', '@joaquin']\n",
      "@joeilagan ['@eeebeee', '@jobenilagan', '@chums']\n",
      "@eeebeee ['@jobenilagan', '@joeilagan']\n"
     ]
    }
   ],
   "source": [
    "for from_member, to_member in social_graph.items():\n",
    "    print(from_member, to_member[\"following\"])\n",
    "\n"
   ]
  },
  {
   "cell_type": "code",
   "execution_count": 130,
   "metadata": {},
   "outputs": [
    {
     "name": "stdout",
     "output_type": "stream",
     "text": [
      "fucking friends\n"
     ]
    }
   ],
   "source": [
    "\n",
    "from_member = \"@joeilagan\"\n",
    "to_member = \"@eeebeee\"\n",
    "following = []\n",
    "followedby = []\n",
    "for f, t in social_graph.items():\n",
    "    # print(from_member, to_member)\n",
    "    # print(f,t[\"following\"])\n",
    "    if from_member in f and to_member in t[\"following\"]:\n",
    "\n",
    "        # print(\"following\")\n",
    "        following.append(1)\n",
    "    else : pass #print(\"no relationship\")\n",
    "\n",
    "for f, t in social_graph.items():\n",
    "    # print(from_member, to_member)\n",
    "    # print(f,t[\"following\"])\n",
    "    if to_member in f and from_member in t[\"following\"]:\n",
    "        #print(\"followed by\")\n",
    "        followedby.append(1)\n",
    "    else : pass #print(\"no relationship\")\n",
    "\n",
    "answer = following + followedby\n",
    "\n",
    "if answer == [0, 0]:\n",
    "    print(\"no relationship\")\n",
    "elif answer == [1, 0]:\n",
    "    print(\"following\")\n",
    "elif answer == [0, 1]:\n",
    "    print(\"followed by\")\n",
    "elif answer == [1, 1]:\n",
    "    print(\"fucking friends\")"
   ]
  },
  {
   "cell_type": "code",
   "execution_count": 182,
   "metadata": {},
   "outputs": [],
   "source": [
    "\n",
    "\n",
    "def relationship_status(from_member, to_member, social_graph):\n",
    "    following = []\n",
    "    followedby = []\n",
    "    for f, t in social_graph.items():\n",
    "    # print(from_member, to_member)\n",
    "    # print(f,t[\"following\"])\n",
    "        if from_member in f and to_member in t[\"following\"]:\n",
    "\n",
    "        # print(\"following\")\n",
    "            following = [1]\n",
    "            break\n",
    "        else : \n",
    "            following = [0] #print(\"no relationship\")\n",
    "        #print(following)\n",
    "    \n",
    "    for f, t in social_graph.items():\n",
    "    # print(from_member, to_member)\n",
    "    # print(f,t[\"following\"])\n",
    "        if to_member in f and from_member in t[\"following\"]:\n",
    "        #print(\"followed by\")\n",
    "            followedby = [1]\n",
    "            break\n",
    "        else : \n",
    "            followedby = [0] #print(\"no relationship\")\n",
    "        #print(followedby)\n",
    "        \n",
    "    answer = following + followedby\n",
    "    #print(answer)\n",
    "    answer_print = []\n",
    "    if answer == [0, 0]:\n",
    "        answer_print = \"no relationship\"\n",
    "    elif answer == [1, 0]:\n",
    "        answer_print = \"following\"\n",
    "    elif answer == [0, 1]:\n",
    "        answer_print = \"followed by\"\n",
    "    elif answer == [1, 1]:\n",
    "        answer_print = \"fucking friends\"\n",
    "\n",
    "    return(answer_print)\n",
    "\n",
    "\n",
    "\n"
   ]
  },
  {
   "cell_type": "code",
   "execution_count": 176,
   "metadata": {},
   "outputs": [
    {
     "name": "stdout",
     "output_type": "stream",
     "text": [
      "1\n",
      "c has no zero\n",
      "1\n",
      "c has no zero\n",
      "0\n",
      "c has zero\n",
      "[1]\n"
     ]
    }
   ],
   "source": [
    "a = []\n",
    "c = [1 , 1, 0, 1,1]\n",
    "for i in c:\n",
    "    print(i)\n",
    "    if i in [0]:\n",
    "        print(\"c has zero\")\n",
    "        a = [1]\n",
    "        break\n",
    "    elif i in [1]:\n",
    "        print(\"c has no zero\")\n",
    "        a = [0]\n",
    "print(a)\n"
   ]
  },
  {
   "cell_type": "code",
   "execution_count": 184,
   "metadata": {},
   "outputs": [
    {
     "data": {
      "text/plain": [
       "'followed by'"
      ]
     },
     "execution_count": 184,
     "metadata": {},
     "output_type": "execute_result"
    }
   ],
   "source": [
    "relationship_status(\"@bongolpoc\", \"@chums\", social_graph)\n",
    "\n",
    "# expected output\n",
    "# \"followed by\""
   ]
  },
  {
   "cell_type": "code",
   "execution_count": 183,
   "metadata": {},
   "outputs": [
    {
     "data": {
      "text/plain": [
       "'following'"
      ]
     },
     "execution_count": 183,
     "metadata": {},
     "output_type": "execute_result"
    }
   ],
   "source": [
    "relationship_status(\"@chums\", \"@bongolpoc\", social_graph)\n",
    "\n",
    "# expected output\n",
    "# \"following\""
   ]
  },
  {
   "cell_type": "code",
   "execution_count": 185,
   "metadata": {},
   "outputs": [
    {
     "data": {
      "text/plain": [
       "'no relationship'"
      ]
     },
     "execution_count": 185,
     "metadata": {},
     "output_type": "execute_result"
    }
   ],
   "source": [
    "relationship_status(\"@joaquin\", \"@bongolpoc\", social_graph)"
   ]
  },
  {
   "cell_type": "code",
   "execution_count": 186,
   "metadata": {},
   "outputs": [
    {
     "data": {
      "text/plain": [
       "'fucking friends'"
      ]
     },
     "execution_count": 186,
     "metadata": {},
     "output_type": "execute_result"
    }
   ],
   "source": [
    "relationship_status(\"@joeilagan\", \"@eeebeee\", social_graph)\n"
   ]
  },
  {
   "cell_type": "code",
   "execution_count": 196,
   "metadata": {},
   "outputs": [],
   "source": [
    "def jv_relationship_status(from_member, to_member, social_graph):\n",
    "    from_member_dict = social_graph[from_member]\n",
    "    from_member_following = from_member_dict[\"following\"]\n",
    "    # from_member_following = social_graph[from_member][\"following\"]\n",
    "\n",
    "    to_member_dict = social_graph[to_member]\n",
    "    to_member_following = to_member_dict[\"following\"]\n",
    "    # to_member_following = social_graph[to_member][\"following\"]\n",
    "\n",
    "\n",
    "    if from_member in to_member_following and to_member in from_member_following:\n",
    "        return \"friends\"\n",
    "    elif from_member in to_member_following:\n",
    "        return \"followed by\"\n",
    "    elif to_member in from_member_following:\n",
    "        return \"following\"\n",
    "    else:\n",
    "        return \"no relationship\"\n"
   ]
  },
  {
   "cell_type": "code",
   "execution_count": 197,
   "metadata": {},
   "outputs": [
    {
     "data": {
      "text/plain": [
       "'friends'"
      ]
     },
     "execution_count": 197,
     "metadata": {},
     "output_type": "execute_result"
    }
   ],
   "source": [
    "jv_relationship_status(\"@joeilagan\", \"@eeebeee\", social_graph)"
   ]
  },
  {
   "cell_type": "code",
   "execution_count": 193,
   "metadata": {},
   "outputs": [
    {
     "data": {
      "text/plain": [
       "'no relationship'"
      ]
     },
     "execution_count": 193,
     "metadata": {},
     "output_type": "execute_result"
    }
   ],
   "source": [
    "jv_relationship_status(\"@joaquin\", \"@bongolpoc\", social_graph)"
   ]
  },
  {
   "cell_type": "code",
   "execution_count": 194,
   "metadata": {},
   "outputs": [
    {
     "data": {
      "text/plain": [
       "'following'"
      ]
     },
     "execution_count": 194,
     "metadata": {},
     "output_type": "execute_result"
    }
   ],
   "source": [
    "jv_relationship_status(\"@chums\", \"@bongolpoc\", social_graph)\n",
    "\n",
    "# expected output\n",
    "# \"following\""
   ]
  },
  {
   "cell_type": "code",
   "execution_count": 195,
   "metadata": {},
   "outputs": [
    {
     "data": {
      "text/plain": [
       "'followed by'"
      ]
     },
     "execution_count": 195,
     "metadata": {},
     "output_type": "execute_result"
    }
   ],
   "source": [
    "jv_relationship_status(\"@bongolpoc\", \"@chums\", social_graph)\n",
    "\n",
    "# expected output\n",
    "# \"followed by\""
   ]
  },
  {
   "cell_type": "code",
   "execution_count": null,
   "metadata": {},
   "outputs": [],
   "source": [
    "\n",
    "social_graph = {\n",
    "    \"@bongolpoc\":{\"first_name\":\"Joselito\",\n",
    "                  \"last_name\":\"Olpoc\",\n",
    "                  \"following\":[\n",
    "                  ]\n",
    "    },\n",
    "    \"@joaquin\":  {\"first_name\":\"Joaquin\",\n",
    "                  \"last_name\":\"Gonzales\",\n",
    "                  \"following\":[\n",
    "                      \"@chums\",\"@jobenilagan\"\n",
    "                  ]\n",
    "    },\n",
    "    \"@chums\" : {\"first_name\":\"Matthew\",\n",
    "                \"last_name\":\"Uy\",\n",
    "                \"following\":[\n",
    "                    \"@bongolpoc\",\"@miketan\",\"@rudyang\",\"@joeilagan\"\n",
    "                ]\n",
    "    },\n",
    "    \"@jobenilagan\":{\"first_name\":\"Joben\",\n",
    "                   \"last_name\":\"Ilagan\",\n",
    "                   \"following\":[\n",
    "                    \"@eeebeee\",\"@joeilagan\",\"@chums\",\"@joaquin\"\n",
    "                   ]\n",
    "    },\n",
    "    \"@joeilagan\":{\"first_name\":\"Joe\",\n",
    "                  \"last_name\":\"Ilagan\",\n",
    "                  \"following\":[\n",
    "                    \"@eeebeee\",\"@jobenilagan\",\"@chums\"\n",
    "                  ]\n",
    "    },\n",
    "    \"@eeebeee\":  {\"first_name\":\"Elizabeth\",\n",
    "                  \"last_name\":\"Ilagan\",\n",
    "                  \"following\":[\n",
    "                    \"@jobenilagan\",\"@joeilagan\"\n",
    "                  ]\n",
    "    },\n",
    "}"
   ]
  },
  {
   "cell_type": "code",
   "execution_count": null,
   "metadata": {},
   "outputs": [],
   "source": []
  },
  {
   "cell_type": "code",
   "execution_count": null,
   "metadata": {},
   "outputs": [],
   "source": []
  },
  {
   "cell_type": "code",
   "execution_count": null,
   "metadata": {},
   "outputs": [],
   "source": []
  },
  {
   "cell_type": "code",
   "execution_count": null,
   "metadata": {},
   "outputs": [],
   "source": []
  },
  {
   "cell_type": "code",
   "execution_count": null,
   "metadata": {},
   "outputs": [],
   "source": []
  },
  {
   "cell_type": "code",
   "execution_count": null,
   "metadata": {},
   "outputs": [],
   "source": []
  },
  {
   "cell_type": "code",
   "execution_count": null,
   "metadata": {},
   "outputs": [],
   "source": []
  },
  {
   "cell_type": "code",
   "execution_count": null,
   "metadata": {},
   "outputs": [],
   "source": []
  },
  {
   "cell_type": "code",
   "execution_count": null,
   "metadata": {},
   "outputs": [],
   "source": []
  },
  {
   "cell_type": "code",
   "execution_count": null,
   "metadata": {},
   "outputs": [],
   "source": []
  },
  {
   "cell_type": "code",
   "execution_count": null,
   "metadata": {},
   "outputs": [],
   "source": []
  },
  {
   "cell_type": "code",
   "execution_count": null,
   "metadata": {},
   "outputs": [],
   "source": []
  },
  {
   "cell_type": "code",
   "execution_count": null,
   "metadata": {},
   "outputs": [],
   "source": []
  },
  {
   "cell_type": "code",
   "execution_count": null,
   "metadata": {},
   "outputs": [],
   "source": []
  },
  {
   "cell_type": "code",
   "execution_count": null,
   "metadata": {},
   "outputs": [],
   "source": []
  },
  {
   "cell_type": "code",
   "execution_count": null,
   "metadata": {},
   "outputs": [],
   "source": []
  }
 ],
 "metadata": {
  "kernelspec": {
   "display_name": "Python 3",
   "language": "python",
   "name": "python3"
  },
  "language_info": {
   "codemirror_mode": {
    "name": "ipython",
    "version": 3
   },
   "file_extension": ".py",
   "mimetype": "text/x-python",
   "name": "python",
   "nbconvert_exporter": "python",
   "pygments_lexer": "ipython3",
   "version": "3.12.1"
  }
 },
 "nbformat": 4,
 "nbformat_minor": 2
}

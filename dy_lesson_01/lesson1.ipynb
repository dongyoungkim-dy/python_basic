{
 "cells": [
  {
   "cell_type": "code",
   "execution_count": null,
   "metadata": {},
   "outputs": [],
   "source": [
    "has_value = \"\"\n",
    "no_value = None\n",
    "print(\"has value\", has_value, \"no value\", no_value)"
   ]
  },
  {
   "cell_type": "code",
   "execution_count": 11,
   "metadata": {},
   "outputs": [
    {
     "name": "stdout",
     "output_type": "stream",
     "text": [
      "a\n",
      "b\n",
      "c\n",
      "d\n",
      "10\n",
      "13\n",
      "1.3\n",
      "2.4\n"
     ]
    }
   ],
   "source": [
    "f = [\"a\", \"b\", \"c\", \"d\", 10, 13, 1.30, 2.40]\n",
    "for i in f:\n",
    "    print(i)"
   ]
  },
  {
   "cell_type": "code",
   "execution_count": 9,
   "metadata": {},
   "outputs": [
    {
     "name": "stdout",
     "output_type": "stream",
     "text": [
      "0 a\n",
      "1 b\n",
      "2 c\n",
      "3 d\n",
      "4 10\n",
      "5 13\n",
      "6 1.3\n",
      "7 2.4\n"
     ]
    }
   ],
   "source": [
    "f = [\"a\", \"b\", \"c\", \"d\", 10, 13, 1.30, 2.40]\n",
    "for i, x in enumerate(f):\n",
    "     print(i, x)"
   ]
  },
  {
   "cell_type": "code",
   "execution_count": 18,
   "metadata": {},
   "outputs": [
    {
     "name": "stdout",
     "output_type": "stream",
     "text": [
      "[0, 1, 2, 3, 4, 5, 6, 7, 8, 9]\n"
     ]
    }
   ],
   "source": [
    "output = []\n",
    "iterate = 0\n",
    "max_iterate = 10\n",
    "while iterate < max_iterate:\n",
    "    output.append(iterate)\n",
    "    iterate += 1\n",
    "print(output)"
   ]
  },
  {
   "cell_type": "code",
   "execution_count": 23,
   "metadata": {},
   "outputs": [
    {
     "name": "stdout",
     "output_type": "stream",
     "text": [
      "1\n",
      "2\n",
      "Fizz\n",
      "4\n",
      "Buzz\n",
      "Fizz\n",
      "7\n",
      "8\n",
      "Fizz\n",
      "Buzz\n",
      "11\n",
      "Fizz\n",
      "13\n",
      "14\n",
      "FizzBuzz\n"
     ]
    }
   ],
   "source": [
    "def fizzbuzz(n=15):\n",
    "    for i in range(1, n+1):\n",
    "            \n",
    "        output_str = \"\"\n",
    "\n",
    "        if i%3 == 0 :\n",
    "            output_str = output_str + \"Fizz\"\n",
    "        if i%5 == 0 : \n",
    "            output_str += \"Buzz\"\n",
    "        if output_str == \"\":\n",
    "            print(i)\n",
    "        elif output_str != \"\":\n",
    "            print(output_str)\n",
    "\n",
    "fizzbuzz()"
   ]
  }
 ],
 "metadata": {
  "kernelspec": {
   "display_name": "Python 3",
   "language": "python",
   "name": "python3"
  },
  "language_info": {
   "codemirror_mode": {
    "name": "ipython",
    "version": 3
   },
   "file_extension": ".py",
   "mimetype": "text/x-python",
   "name": "python",
   "nbconvert_exporter": "python",
   "pygments_lexer": "ipython3",
   "version": "3.12.1"
  }
 },
 "nbformat": 4,
 "nbformat_minor": 2
}
